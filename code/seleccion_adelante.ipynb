{
 "cells": [
  {
   "cell_type": "code",
   "execution_count": 55,
   "metadata": {},
   "outputs": [],
   "source": [
    "# Examen 3 de Análisis de datos atmosféricos.\n",
    "# ICACC - UNAM - maestría.\n",
    "# 2 de noviembre de 2021.\n",
    "\n",
    "import os\n",
    "import warnings\n",
    "\n",
    "import pandas as pd\n",
    "import numpy as np\n",
    "\n",
    "from scipy import stats\n",
    "\n",
    "from matplotlib import pyplot as plt\n",
    "\n",
    "from statsmodels.stats.diagnostic import lilliefors\n",
    "from statsmodels.stats.stattools import durbin_watson\n",
    "\n",
    "# Ignora warnings\n",
    "# ¡¡usar solo al terminar el programa!!\n",
    "warnings.filterwarnings(\"ignore\", category = UserWarning)"
   ]
  },
  {
   "cell_type": "code",
   "execution_count": 56,
   "metadata": {},
   "outputs": [],
   "source": [
    "# Datos.\n",
    "path = \"../datos/A.1_Wilks.csv\"\n",
    "df = pd.read_csv(path)\n",
    "\n",
    "y = df[\"Canandaigua - Min Temp\"]\n",
    "x = df.drop(columns = y.name)\n",
    "\n",
    "YY = np.array([y]).T\n",
    "\n",
    "pre = [\"Ithaca - Precipitation\", \"Canandaigua - Precipitation\"]\n",
    "\n",
    "x[pre] = np.log( x[pre] + 1 )\n",
    "\n",
    "x = x[ [x.columns[0]] + [x.columns[3]] + [x.columns[2]] +\n",
    "   [x.columns[5]] + [x.columns[1]] + [x.columns[4]] ]"
   ]
  },
  {
   "cell_type": "code",
   "execution_count": 57,
   "metadata": {},
   "outputs": [
    {
     "name": "stdout",
     "output_type": "stream",
     "text": [
      "Ithaca - Min Temp\n",
      "R: 0.853\n"
     ]
    }
   ],
   "source": [
    "SST = []\n",
    "SSR = []\n",
    "SSE = []\n",
    "Se = []\n",
    "R = []\n",
    "F = []\n",
    "\n",
    "for i in range(x.shape[1]):\n",
    "    # Regresión lineal\n",
    "    x_1 = x.iloc[:, i]\n",
    "    XX = np.array( (np.ones_like(x_1),\n",
    "        x_1) ).T\n",
    "\n",
    "    XX_sq = XX.T @ XX\n",
    "    XX_inv = np.linalg.inv(XX_sq)\n",
    "    BB = XX_inv @ ( XX.T @ YY )\n",
    "\n",
    "    # Y gorro.\n",
    "    y_reg = ( BB[0,0] + BB[1,0] * x_1 )\n",
    "\n",
    "    # Cantidad de predictores.\n",
    "    k = BB.shape[0]\n",
    "\n",
    "    # ANOVA\n",
    "    SST.append( ( ( y - y.mean() ) ** 2 ).sum() )\n",
    "    SSR.append( ( ( y_reg - y.mean() ) ** 2 ).sum() )\n",
    "    SSE.append( ( ( y - y_reg ) ** 2 ).sum() )\n",
    "    Se.append( np.sqrt(SSE[i] /\n",
    "        (y.shape[0] - k - 1 ) ) )\n",
    "    R.append( SSR[i] / SST[i] )\n",
    "    F.append( SSR[i] / Se[i] ** 2 )\n",
    "\n",
    "x_1 = x.iloc[:, R.index(max(R))]\n",
    "x.drop(columns = x_1.name, inplace = True)\n",
    "\n",
    "print(x_1.name)\n",
    "print(f\"R: {max(R):.3f}\")"
   ]
  },
  {
   "cell_type": "code",
   "execution_count": 58,
   "metadata": {},
   "outputs": [
    {
     "name": "stdout",
     "output_type": "stream",
     "text": [
      "Date\n",
      "R: 0.889\n"
     ]
    }
   ],
   "source": [
    "SST = []\n",
    "SSR = []\n",
    "SSE = []\n",
    "Se = []\n",
    "R = []\n",
    "F = []\n",
    "\n",
    "for i in range(x.shape[1]):\n",
    "\n",
    "    # Regresión lineal\n",
    "    x_2 = x.iloc[:, i]\n",
    "    XX = np.array( (np.ones_like(x_1),\n",
    "        x_1, x_2) ).T\n",
    "\n",
    "    XX_sq = XX.T @ XX\n",
    "    XX_inv = np.linalg.inv(XX_sq)\n",
    "    BB = XX_inv @ ( XX.T @ YY )\n",
    "\n",
    "    # Y gorro.\n",
    "    y_reg = ( BB[0,0] + BB[1,0] * x_1\n",
    "        + BB[2,0] * x_2 )\n",
    "\n",
    "    # Cantidad de predictores.\n",
    "    k = BB.shape[0]\n",
    "\n",
    "    # Residuales.\n",
    "    res = y - y_reg\n",
    "\n",
    "    # ANOVA\n",
    "    SST.append( ( ( y - y.mean() ) ** 2 ).sum() )\n",
    "    SSR.append( ( ( y_reg - y.mean() ) ** 2 ).sum() )\n",
    "    SSE.append( ( ( y - y_reg ) ** 2 ).sum() )\n",
    "    Se.append( np.sqrt( SSE[i] /\n",
    "        ( y.shape[0] - k - 1 ) ) )\n",
    "    R.append( SSR[i] / SST[i] )\n",
    "    F.append( SSR[i] / Se[i] ** 2 )\n",
    "\n",
    "x_2 = x.iloc[:, R.index(max(R))]\n",
    "x.drop(columns = x_2.name, inplace = True)\n",
    "\n",
    "print(x_2.name)\n",
    "print(f\"R: {max(R):.3f}\")"
   ]
  },
  {
   "cell_type": "code",
   "execution_count": 59,
   "metadata": {},
   "outputs": [
    {
     "name": "stdout",
     "output_type": "stream",
     "text": [
      "Canandaigua - Max Temp\n",
      "R: 0.910\n"
     ]
    }
   ],
   "source": [
    "SST = []\n",
    "SSR = []\n",
    "SSE = []\n",
    "Se = []\n",
    "R = []\n",
    "F = []\n",
    "\n",
    "for i in range(x.shape[1]):\n",
    "\n",
    "    # Regresión lineal\n",
    "    x_3 = x.iloc[:, i]\n",
    "    XX = np.array( (np.ones_like(x_1),\n",
    "        x_1, x_2, x_3) ).T\n",
    "\n",
    "    XX_sq = XX.T @ XX\n",
    "    XX_inv = np.linalg.inv(XX_sq)\n",
    "    BB = XX_inv @ ( XX.T @ YY )\n",
    "\n",
    "    # Y gorro.\n",
    "    y_reg = ( BB[0,0] + BB[1,0] * x_1\n",
    "        + BB[2,0] * x_2 + BB[3,0] * x_3 )\n",
    "\n",
    "    # Cantidad de predictores.\n",
    "    k = BB.shape[0]\n",
    "\n",
    "    # Residuales.\n",
    "    res = y - y_reg\n",
    "\n",
    "    # ANOVA\n",
    "    SST.append( ( ( y - y.mean() ) ** 2 ).sum() )\n",
    "    SSR.append( ( ( y_reg - y.mean() ) ** 2 ).sum() )\n",
    "    SSE.append( ( ( y - y_reg ) ** 2 ).sum() )\n",
    "    Se.append( np.sqrt(SSE[i] /\n",
    "        (y.shape[0] - k - 1 ) ) )\n",
    "    R.append( SSR[i] / SST[i] )\n",
    "    F.append( SSR[i] / Se[i] ** 2 )\n",
    "    \n",
    "x_3 = x.iloc[:, R.index(max(R))]\n",
    "x.drop(columns = x_3.name, inplace = True)\n",
    "\n",
    "print(x_3.name)\n",
    "print(f\"R: {max(R):.3f}\")"
   ]
  }
 ],
 "metadata": {
  "interpreter": {
   "hash": "61e5a3f3aa95a130d195f400b073dbe78201ba87669bc387338808a06a837447"
  },
  "kernelspec": {
   "display_name": "Python 3.7.10 64-bit ('gv2': conda)",
   "language": "python",
   "name": "python3"
  },
  "language_info": {
   "codemirror_mode": {
    "name": "ipython",
    "version": 3
   },
   "file_extension": ".py",
   "mimetype": "text/x-python",
   "name": "python",
   "nbconvert_exporter": "python",
   "pygments_lexer": "ipython3",
   "version": "3.7.10"
  },
  "orig_nbformat": 4
 },
 "nbformat": 4,
 "nbformat_minor": 2
}
