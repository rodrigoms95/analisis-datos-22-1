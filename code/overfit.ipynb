{
 "cells": [
  {
   "cell_type": "code",
   "execution_count": 49,
   "metadata": {},
   "outputs": [],
   "source": [
    "# Ejemplo de overfit.\n",
    "\n",
    "import pandas as pd\n",
    "import numpy as np\n",
    "\n",
    "from scipy import stats\n",
    "\n",
    "from matplotlib import pyplot as plt\n"
   ]
  },
  {
   "cell_type": "code",
   "execution_count": 50,
   "metadata": {},
   "outputs": [
    {
     "data": {
      "text/html": [
       "<div>\n",
       "<style scoped>\n",
       "    .dataframe tbody tr th:only-of-type {\n",
       "        vertical-align: middle;\n",
       "    }\n",
       "\n",
       "    .dataframe tbody tr th {\n",
       "        vertical-align: top;\n",
       "    }\n",
       "\n",
       "    .dataframe thead th {\n",
       "        text-align: right;\n",
       "    }\n",
       "</style>\n",
       "<table border=\"1\" class=\"dataframe\">\n",
       "  <thead>\n",
       "    <tr style=\"text-align: right;\">\n",
       "      <th></th>\n",
       "      <th>year</th>\n",
       "      <th>snow</th>\n",
       "      <th>deficit</th>\n",
       "      <th>employees</th>\n",
       "      <th>sheep</th>\n",
       "      <th>grade</th>\n",
       "    </tr>\n",
       "  </thead>\n",
       "  <tbody>\n",
       "    <tr>\n",
       "      <th>0</th>\n",
       "      <td>1980</td>\n",
       "      <td>52.3</td>\n",
       "      <td>59.6</td>\n",
       "      <td>557969</td>\n",
       "      <td>12699</td>\n",
       "      <td>992</td>\n",
       "    </tr>\n",
       "    <tr>\n",
       "      <th>1</th>\n",
       "      <td>1981</td>\n",
       "      <td>64.9</td>\n",
       "      <td>57.9</td>\n",
       "      <td>570302</td>\n",
       "      <td>12947</td>\n",
       "      <td>994</td>\n",
       "    </tr>\n",
       "    <tr>\n",
       "      <th>2</th>\n",
       "      <td>1982</td>\n",
       "      <td>50.2</td>\n",
       "      <td>110.6</td>\n",
       "      <td>582845</td>\n",
       "      <td>12997</td>\n",
       "      <td>989</td>\n",
       "    </tr>\n",
       "    <tr>\n",
       "      <th>3</th>\n",
       "      <td>1983</td>\n",
       "      <td>74.2</td>\n",
       "      <td>196.4</td>\n",
       "      <td>592044</td>\n",
       "      <td>12140</td>\n",
       "      <td>963</td>\n",
       "    </tr>\n",
       "    <tr>\n",
       "      <th>4</th>\n",
       "      <td>1984</td>\n",
       "      <td>49.5</td>\n",
       "      <td>175.3</td>\n",
       "      <td>597125</td>\n",
       "      <td>11487</td>\n",
       "      <td>965</td>\n",
       "    </tr>\n",
       "    <tr>\n",
       "      <th>5</th>\n",
       "      <td>1985</td>\n",
       "      <td>64.7</td>\n",
       "      <td>211.9</td>\n",
       "      <td>601515</td>\n",
       "      <td>10443</td>\n",
       "      <td>977</td>\n",
       "    </tr>\n",
       "    <tr>\n",
       "      <th>6</th>\n",
       "      <td>1986</td>\n",
       "      <td>65.6</td>\n",
       "      <td>220.7</td>\n",
       "      <td>606500</td>\n",
       "      <td>9932</td>\n",
       "      <td>1001</td>\n",
       "    </tr>\n",
       "  </tbody>\n",
       "</table>\n",
       "</div>"
      ],
      "text/plain": [
       "   year  snow  deficit  employees  sheep  grade\n",
       "0  1980  52.3     59.6     557969  12699    992\n",
       "1  1981  64.9     57.9     570302  12947    994\n",
       "2  1982  50.2    110.6     582845  12997    989\n",
       "3  1983  74.2    196.4     592044  12140    963\n",
       "4  1984  49.5    175.3     597125  11487    965\n",
       "5  1985  64.7    211.9     601515  10443    977\n",
       "6  1986  65.6    220.7     606500   9932   1001"
      ]
     },
     "execution_count": 50,
     "metadata": {},
     "output_type": "execute_result"
    }
   ],
   "source": [
    "# Datos.\n",
    "path  = \"../datos/\"\n",
    "fname = \"Tabla_75_snow.dat\"\n",
    "col = [\"year\", \"snow\", \"deficit\",\n",
    "    \"employees\", \"sheep\", \"grade\" ]\n",
    "\n",
    "# Se lee el archivo .dat\n",
    "# y se ajusta su formato.\n",
    "df = pd.read_table(path + fname,\n",
    "    names = col, sep = \"\\s+\")\n",
    "\n",
    "df"
   ]
  },
  {
   "cell_type": "code",
   "execution_count": 53,
   "metadata": {},
   "outputs": [
    {
     "name": "stdout",
     "output_type": "stream",
     "text": [
      "n            :       7\n",
      "a_1          :    -621.1514\n",
      "b_1          : 1199418.0507\n",
      "X_mean       :    1982.5000\n",
      "Y_mean       :      59.3000\n",
      "SST          :     510.3800\n",
      "SSR          :     510.3827\n",
      "SSE          :       0.0000\n",
      "RMSE         :     inf\n",
      "R            :       1.0000\n"
     ]
    },
    {
     "name": "stderr",
     "output_type": "stream",
     "text": [
      "C:\\Users\\Rodrigo\\anaconda3\\envs\\gv2\\lib\\site-packages\\ipykernel_launcher.py:31: RuntimeWarning: divide by zero encountered in double_scalars\n"
     ]
    }
   ],
   "source": [
    "# Datos.\n",
    "y = df.iloc[0:6, 1]\n",
    "x = df.iloc[0:6, 0]\n",
    "x_1 = x\n",
    "x_2 = df.iloc[0:6, 2]\n",
    "x_3 = df.iloc[0:6, 3]\n",
    "x_4 = df.iloc[0:6, 4]\n",
    "x_5 = df.iloc[0:6, 5]\n",
    "\n",
    "# Regresión múltiple.\n",
    "YY = np.array([y]).T\n",
    "XX = np.array((np.ones_like(x_1),\n",
    "    x_1, x_2, x_3, x_4, x_5)).T\n",
    "\n",
    "XX_sq = XX.T @ XX\n",
    "XX_inv = np.linalg.inv(XX_sq)\n",
    "BB = XX_inv @ ( XX.T @ YY )\n",
    "\n",
    "y_reg = ( BB[0,0] + BB[1,0] * x_1 +\n",
    "    BB[2,0] * x_2 + BB[3,0] * x_3\n",
    "    + BB[4,0] * x_4 + BB[5,0] * x_5 )\n",
    "\n",
    "# Residuales.\n",
    "res = y - y_reg\n",
    "\n",
    "# ANOVA\n",
    "n = df.shape[0]\n",
    "SST = ( ( y - y.mean() ) ** 2 ).sum()\n",
    "SSR = ( ( y_reg - y.mean() ) ** 2 ).sum()\n",
    "SSE = ( ( y - y_reg ) ** 2 ).sum()\n",
    "Se = np.sqrt(SSE / (y.shape[0] - 6 ))\n",
    "R = SSR / SST\n",
    "\n",
    "print(f\"n            :       {n}\")\n",
    "print(f\"a_1          :    {BB[1,0]:.4f}\")\n",
    "print(f\"b_1          : {BB[0,0]:.4f}\")\n",
    "print(f\"X_mean       :    {x_1.mean():.4f}\")\n",
    "print(f\"Y_mean       :      {y.mean():.4f}\")\n",
    "print(f\"SST          :     {SST:.4f}\")\n",
    "print(f\"SSR          :     {SSR:.4f}\")\n",
    "print(f\"SSE          :       {SSE:.4f}\")\n",
    "print(f\"RMSE         :     {Se:.4f}\")\n",
    "print(f\"R            :       {R:.4f}\")"
   ]
  },
  {
   "cell_type": "code",
   "execution_count": 54,
   "metadata": {},
   "outputs": [
    {
     "name": "stderr",
     "output_type": "stream",
     "text": [
      "C:\\Users\\Rodrigo\\anaconda3\\envs\\gv2\\lib\\site-packages\\ipykernel_launcher.py:11: UserWarning: The handle <matplotlib.lines.Line2D object at 0x00000202E6774B88> has a label of '_' which cannot be automatically added to the legend.\n",
      "  # This is added back by InteractiveShellApp.init_path()\n"
     ]
    },
    {
     "name": "stdout",
     "output_type": "stream",
     "text": [
      "Filliben Q-Q plot test: 0.9631\n"
     ]
    },
    {
     "data": {
      "text/plain": [
       "<matplotlib.legend.Legend at 0x202e7bcfb88>"
      ]
     },
     "execution_count": 54,
     "metadata": {},
     "output_type": "execute_result"
    },
    {
     "data": {
      "image/png": "[encoded data removed]",
      "text/plain": [
       "<Figure size 432x288 with 1 Axes>"
      ]
     },
     "metadata": {
      "needs_background": "light"
     },
     "output_type": "display_data"
    },
    {
     "data": {
      "image/png": "[encoded data removed]",
      "text/plain": [
       "<Figure size 432x288 with 1 Axes>"
      ]
     },
     "metadata": {
      "needs_background": "light"
     },
     "output_type": "display_data"
    },
    {
     "data": {
      "image/png": "[encoded data removed]",
      "text/plain": [
       "<Figure size 432x288 with 1 Axes>"
      ]
     },
     "metadata": {
      "needs_background": "light"
     },
     "output_type": "display_data"
    },
    {
     "data": {
      "image/png": "[encoded data removed]",
      "text/plain": [
       "<Figure size 432x288 with 1 Axes>"
      ]
     },
     "metadata": {
      "needs_background": "light"
     },
     "output_type": "display_data"
    }
   ],
   "source": [
    "# Residuales - x\n",
    "fig, ax = plt.subplots()\n",
    "ax.scatter(x_1, res, s = 10)\n",
    "ax.plot(x_1, np.zeros_like(x_1),\n",
    "    color = \"black\", linewidth = 1)\n",
    "\n",
    "ax.set_title(\"Residuales - Snow in Ithaca\",\n",
    "    fontsize = 18)\n",
    "ax.set_xlabel(x.name)\n",
    "ax.set_ylabel(\"residual\")\n",
    "ax.legend([\"_\", \"residuales\"])\n",
    "\n",
    "# Q-Q plot\n",
    "fig, ax = plt.subplots()\n",
    "qqplot = stats.probplot(res, plot = ax)\n",
    "ax.get_lines()[0].set_markersize(5)\n",
    "\n",
    "ax.set_title(\"Residuales - Q - Q Plot\",\n",
    "    fontsize = 18)\n",
    "ax.set_xlabel(\"normal\")\n",
    "ax.set_ylabel(\"residual\")\n",
    "ax.legend([\"Residuales\", \"Normal\"])\n",
    "\n",
    "print(f\"Filliben Q-Q plot test: {qqplot[1][2]:.4f}\")\n",
    "\n",
    "# Se grafican los valores.\n",
    "fig, ax = plt.subplots()\n",
    "ax.scatter(x, y, s = 10)\n",
    "ax.plot(x, y_reg, color = \"r\", linewidth = 0.5)\n",
    "\n",
    "ax.set_title(\"Snow in Ithaca\",\n",
    "    fontsize = 18)\n",
    "ax.set_xlabel(x_1.name)\n",
    "ax.set_ylabel(y.name)\n",
    "ax.legend([\"Regresión\\nlineal\", \"Datos\"])\n",
    "\n",
    "y = df.iloc[:, 1]\n",
    "x_1 = df.iloc[:, 0]\n",
    "x_2 = df.iloc[:, 2]\n",
    "x_3 = df.iloc[:, 3]\n",
    "x_4 = df.iloc[:, 4]\n",
    "x_5 = df.iloc[:, 5]\n",
    "\n",
    "y_reg = ( BB[0,0] + BB[1,0] * x_1 +\n",
    "    BB[2,0] * x_2 + BB[3,0] * x_3\n",
    "    + BB[4,0] * x_4 + BB[5,0] * x_5 )\n",
    "\n",
    "# Se grafican los valores.\n",
    "fig, ax = plt.subplots()\n",
    "ax.scatter(x_1, y, s = 10)\n",
    "ax.plot(x_1, y_reg, color = \"r\", linewidth = 0.5)\n",
    "\n",
    "ax.set_title(\"Snow in Ithaca\",\n",
    "    fontsize = 18)\n",
    "ax.set_xlabel(x_1.name)\n",
    "ax.set_ylabel(y.name)\n",
    "ax.legend([\"Regresión\\nlineal\", \"Datos\"])"
   ]
  }
 ],
 "metadata": {
  "interpreter": {
   "hash": "61e5a3f3aa95a130d195f400b073dbe78201ba87669bc387338808a06a837447"
  },
  "kernelspec": {
   "display_name": "Python 3.7.10 64-bit ('gv2': conda)",
   "name": "python3"
  },
  "language_info": {
   "codemirror_mode": {
    "name": "ipython",
    "version": 3
   },
   "file_extension": ".py",
   "mimetype": "text/x-python",
   "name": "python",
   "nbconvert_exporter": "python",
   "pygments_lexer": "ipython3",
   "version": "3.7.10"
  },
  "orig_nbformat": 4
 },
 "nbformat": 4,
 "nbformat_minor": 2
}
