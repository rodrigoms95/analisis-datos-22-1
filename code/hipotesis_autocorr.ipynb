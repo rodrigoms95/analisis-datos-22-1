{
 "cells": [
  {
   "cell_type": "code",
   "execution_count": 1,
   "metadata": {},
   "outputs": [],
   "source": [
    "# Prueba de hipótesis de datos\n",
    "# en pares con autocorrelación.\n",
    "\n",
    "import pandas as pd\n",
    "import numpy as np\n",
    "\n",
    "from scipy import stats"
   ]
  },
  {
   "cell_type": "code",
   "execution_count": 2,
   "metadata": {},
   "outputs": [
    {
     "data": {
      "text/html": [
       "<div>\n",
       "<style scoped>\n",
       "    .dataframe tbody tr th:only-of-type {\n",
       "        vertical-align: middle;\n",
       "    }\n",
       "\n",
       "    .dataframe tbody tr th {\n",
       "        vertical-align: top;\n",
       "    }\n",
       "\n",
       "    .dataframe thead th {\n",
       "        text-align: right;\n",
       "    }\n",
       "</style>\n",
       "<table border=\"1\" class=\"dataframe\">\n",
       "  <thead>\n",
       "    <tr style=\"text-align: right;\">\n",
       "      <th></th>\n",
       "      <th>Ithaca - Max Temp</th>\n",
       "      <th>Canandaigua - Max Temp</th>\n",
       "      <th>delta</th>\n",
       "    </tr>\n",
       "  </thead>\n",
       "  <tbody>\n",
       "    <tr>\n",
       "      <th>0</th>\n",
       "      <td>33</td>\n",
       "      <td>34</td>\n",
       "      <td>-1</td>\n",
       "    </tr>\n",
       "    <tr>\n",
       "      <th>1</th>\n",
       "      <td>32</td>\n",
       "      <td>36</td>\n",
       "      <td>-4</td>\n",
       "    </tr>\n",
       "    <tr>\n",
       "      <th>2</th>\n",
       "      <td>30</td>\n",
       "      <td>30</td>\n",
       "      <td>0</td>\n",
       "    </tr>\n",
       "    <tr>\n",
       "      <th>3</th>\n",
       "      <td>29</td>\n",
       "      <td>29</td>\n",
       "      <td>0</td>\n",
       "    </tr>\n",
       "    <tr>\n",
       "      <th>4</th>\n",
       "      <td>25</td>\n",
       "      <td>30</td>\n",
       "      <td>-5</td>\n",
       "    </tr>\n",
       "  </tbody>\n",
       "</table>\n",
       "</div>"
      ],
      "text/plain": [
       "   Ithaca - Max Temp  Canandaigua - Max Temp  delta\n",
       "0                 33                      34     -1\n",
       "1                 32                      36     -4\n",
       "2                 30                      30      0\n",
       "3                 29                      29      0\n",
       "4                 25                      30     -5"
      ]
     },
     "execution_count": 2,
     "metadata": {},
     "output_type": "execute_result"
    }
   ],
   "source": [
    "path = \"../datos/A.1_Wilks.csv\"\n",
    "\n",
    "df = pd.read_csv(path)[[\"Ithaca - Max Temp\",\n",
    "    \"Canandaigua - Max Temp\"]]\n",
    "df[\"delta\"] = df.iloc[:, 0] - df.iloc[:, 1]\n",
    "\n",
    "df.head()"
   ]
  },
  {
   "cell_type": "code",
   "execution_count": 17,
   "metadata": {},
   "outputs": [
    {
     "name": "stdout",
     "output_type": "stream",
     "text": [
      "mu:       -1.903\n",
      "sigma:     2.286\n",
      "rho1:      0.076\n",
      "n:        31.000\n",
      "n_prim:   26.634\n",
      "var:       0.196\n",
      "z:        -4.298\n",
      "crit:     -1.960\n",
      "p:         0.000863%\n",
      "¡H0 rechazada!\n",
      "confianza: [ -2.771 , -1.035 ]\n"
     ]
    }
   ],
   "source": [
    "# Prueba de hipótesis para la resta de medias.\n",
    "\n",
    "var = \"delta\"\n",
    "\n",
    "mu = df[var].mean()\n",
    "sigma = df[var].std()\n",
    "rho1 = df[var].autocorr()\n",
    "n = df.shape[0]\n",
    "n_prim = n * ( 1 - rho1 ) / ( 1 + rho1 )\n",
    "var = sigma ** 2 / n_prim\n",
    "z = mu / np.sqrt(var)\n",
    "crit = stats.norm.ppf(0.025)\n",
    "p = stats.norm.cdf(z)\n",
    "error = crit * sigma / np.sqrt(n_prim)\n",
    "conf = [ mu + error, mu - error ]\n",
    "\n",
    "\n",
    "print(f\"mu:       {mu:.3f}\")\n",
    "print(f\"sigma:     {sigma:.3f}\")\n",
    "print(f\"rho1:      {rho1:.3f}\")\n",
    "print(f\"n:        {n:.3f}\")\n",
    "print(f\"n_prim:   {n_prim:.3f}\")\n",
    "print(f\"var:       {var:.3f}\")\n",
    "print(f\"z:        {z:.3f}\")\n",
    "print(f\"crit:     {crit:.3f}\")\n",
    "print(f\"p:         {p*100:.6f}%\")\n",
    "if np.abs(z) > np.abs(crit): print(\"¡H0 rechazada!\")\n",
    "else: print(\"¡H0 aceptada!\")\n",
    "print(f\"confianza: [ {conf[0]:.3f} , {conf[1]:.3f} ]\")\n"
   ]
  },
  {
   "cell_type": "code",
   "execution_count": 18,
   "metadata": {},
   "outputs": [
    {
     "name": "stdout",
     "output_type": "stream",
     "text": [
      "mu:       29.871\n",
      "sigma:     7.715\n",
      "rho1:      0.519\n",
      "n:        31.000\n",
      "n_prim:   9.821\n",
      "var:       6.060\n",
      "z:        12.134\n",
      "crit:     -1.960\n",
      "p:         100.000000%\n",
      "¡H0 rechazada!\n",
      "confianza: [ 25.046 , 34.696 ]\n"
     ]
    }
   ],
   "source": [
    "# Prueba de hipótesis individual para Ithaca.\n",
    "\n",
    "var = \"Ithaca - Max Temp\"\n",
    "\n",
    "mu = df[var].mean()\n",
    "sigma = df[var].std()\n",
    "rho1 = df[var].autocorr()\n",
    "n = df.shape[0]\n",
    "n_prim = n * ( 1 - rho1 ) / ( 1 + rho1 )\n",
    "var = sigma ** 2 / n_prim\n",
    "z = mu / np.sqrt(var)\n",
    "crit = stats.norm.ppf(0.025)\n",
    "p = stats.norm.cdf(z)\n",
    "error = crit * sigma / np.sqrt(n_prim)\n",
    "conf = [ mu + error, mu - error ]\n",
    "\n",
    "\n",
    "print(f\"mu:       {mu:.3f}\")\n",
    "print(f\"sigma:     {sigma:.3f}\")\n",
    "print(f\"rho1:      {rho1:.3f}\")\n",
    "print(f\"n:        {n:.3f}\")\n",
    "print(f\"n_prim:   {n_prim:.3f}\")\n",
    "print(f\"var:       {var:.3f}\")\n",
    "print(f\"z:        {z:.3f}\")\n",
    "print(f\"crit:     {crit:.3f}\")\n",
    "print(f\"p:         {p*100:.6f}%\")\n",
    "if np.abs(z) > np.abs(crit): print(\"¡H0 rechazada!\")\n",
    "else: print(\"¡H0 aceptada!\")\n",
    "print(f\"confianza: [ {conf[0]:.3f} , {conf[1]:.3f} ]\")"
   ]
  },
  {
   "cell_type": "code",
   "execution_count": 19,
   "metadata": {},
   "outputs": [
    {
     "name": "stdout",
     "output_type": "stream",
     "text": [
      "mu:       31.774\n",
      "sigma:     7.864\n",
      "rho1:      0.611\n",
      "n:        31.000\n",
      "n_prim:   7.495\n",
      "var:       8.252\n",
      "z:        11.061\n",
      "crit:     -1.960\n",
      "p:         100.000000%\n",
      "¡H0 rechazada!\n",
      "confianza: [ 26.144 , 37.405 ]\n"
     ]
    }
   ],
   "source": [
    "# Prueba de hipótesis individual para Canandaigua.\n",
    "\n",
    "var = \"Canandaigua - Max Temp\"\n",
    "\n",
    "mu = df[var].mean()\n",
    "sigma = df[var].std()\n",
    "rho1 = df[var].autocorr()\n",
    "n = df.shape[0]\n",
    "n_prim = n * ( 1 - rho1 ) / ( 1 + rho1 )\n",
    "var = sigma ** 2 / n_prim\n",
    "z = mu / np.sqrt(var)\n",
    "crit = stats.norm.ppf(0.025)\n",
    "p = stats.norm.cdf(z)\n",
    "error = crit * sigma / np.sqrt(n_prim)\n",
    "conf = [ mu + error, mu - error ]\n",
    "\n",
    "\n",
    "print(f\"mu:       {mu:.3f}\")\n",
    "print(f\"sigma:     {sigma:.3f}\")\n",
    "print(f\"rho1:      {rho1:.3f}\")\n",
    "print(f\"n:        {n:.3f}\")\n",
    "print(f\"n_prim:   {n_prim:.3f}\")\n",
    "print(f\"var:       {var:.3f}\")\n",
    "print(f\"z:        {z:.3f}\")\n",
    "print(f\"crit:     {crit:.3f}\")\n",
    "print(f\"p:         {p*100:.6f}%\")\n",
    "if np.abs(z) > np.abs(crit): print(\"¡H0 rechazada!\")\n",
    "else: print(\"¡H0 aceptada!\")\n",
    "print(f\"confianza: [ {conf[0]:.3f} , {conf[1]:.3f} ]\")"
   ]
  }
 ],
 "metadata": {
  "interpreter": {
   "hash": "61e5a3f3aa95a130d195f400b073dbe78201ba87669bc387338808a06a837447"
  },
  "kernelspec": {
   "display_name": "Python 3.7.10 64-bit ('gv2': conda)",
   "name": "python3"
  },
  "language_info": {
   "codemirror_mode": {
    "name": "ipython",
    "version": 3
   },
   "file_extension": ".py",
   "mimetype": "text/x-python",
   "name": "python",
   "nbconvert_exporter": "python",
   "pygments_lexer": "ipython3",
   "version": "3.7.10"
  },
  "orig_nbformat": 4
 },
 "nbformat": 4,
 "nbformat_minor": 2
}
