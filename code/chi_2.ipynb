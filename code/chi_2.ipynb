{
 "cells": [
  {
   "cell_type": "code",
   "execution_count": 1,
   "metadata": {},
   "outputs": [],
   "source": [
    "# Prueba de hipótesis chi-square.\n",
    "\n",
    "import pandas as pd\n",
    "import numpy as np\n",
    "\n",
    "from scipy import stats\n",
    "\n",
    "from matplotlib import pyplot as plt"
   ]
  },
  {
   "cell_type": "code",
   "execution_count": 2,
   "metadata": {},
   "outputs": [
    {
     "data": {
      "text/html": [
       "<div>\n",
       "<style scoped>\n",
       "    .dataframe tbody tr th:only-of-type {\n",
       "        vertical-align: middle;\n",
       "    }\n",
       "\n",
       "    .dataframe tbody tr th {\n",
       "        vertical-align: top;\n",
       "    }\n",
       "\n",
       "    .dataframe thead th {\n",
       "        text-align: right;\n",
       "    }\n",
       "</style>\n",
       "<table border=\"1\" class=\"dataframe\">\n",
       "  <thead>\n",
       "    <tr style=\"text-align: right;\">\n",
       "      <th></th>\n",
       "      <th>Precipitation</th>\n",
       "    </tr>\n",
       "    <tr>\n",
       "      <th>Year</th>\n",
       "      <th></th>\n",
       "    </tr>\n",
       "  </thead>\n",
       "  <tbody>\n",
       "    <tr>\n",
       "      <th>1933</th>\n",
       "      <td>0.44</td>\n",
       "    </tr>\n",
       "    <tr>\n",
       "      <th>1934</th>\n",
       "      <td>1.18</td>\n",
       "    </tr>\n",
       "    <tr>\n",
       "      <th>1935</th>\n",
       "      <td>2.69</td>\n",
       "    </tr>\n",
       "    <tr>\n",
       "      <th>1936</th>\n",
       "      <td>2.08</td>\n",
       "    </tr>\n",
       "    <tr>\n",
       "      <th>1937</th>\n",
       "      <td>3.66</td>\n",
       "    </tr>\n",
       "  </tbody>\n",
       "</table>\n",
       "</div>"
      ],
      "text/plain": [
       "      Precipitation\n",
       "Year               \n",
       "1933           0.44\n",
       "1934           1.18\n",
       "1935           2.69\n",
       "1936           2.08\n",
       "1937           3.66"
      ]
     },
     "execution_count": 2,
     "metadata": {},
     "output_type": "execute_result"
    }
   ],
   "source": [
    "path = \"../datos/\"\n",
    "fname = \"Tabla_A2_ppt_Ithaca.dat\"\n",
    "\n",
    "# Se lee el archivo .dat y se ajusta su formato.\n",
    "df = pd.read_table(path + fname, names = [\"Year\", \"Precipitation\"])\n",
    "df = df.set_index(\"Year\")\n",
    "\n",
    "df.head()"
   ]
  },
  {
   "cell_type": "code",
   "execution_count": 4,
   "metadata": {},
   "outputs": [],
   "source": [
    "# Ajuste de parámetros.\n",
    "\n",
    "alpha, zeta, beta = stats.gamma.fit(\n",
    "    df[\"Precipitation\"], loc = 0)\n",
    "mu, sigma = stats.norm.fit(df[\"Precipitation\"])"
   ]
  },
  {
   "cell_type": "code",
   "execution_count": 5,
   "metadata": {},
   "outputs": [],
   "source": [
    "# Histograma de datos observados.\n",
    "\n",
    "bins_lim = [0, 1, 1.5, 2, 2.5, 3,\n",
    "    df[\"Precipitation\"].max()\n",
    "    ]\n",
    "\n",
    "n_obs, bins = np.histogram( df[\"Precipitation\"],\n",
    "    bins = bins_lim )\n",
    "\n",
    "# Se discretizan las distribuciones continuas.\n",
    "\n",
    "n_norm = n_obs.sum() * np.array( [\n",
    "    stats.norm.cdf(bins_lim[1], mu, sigma),\n",
    "    stats.norm.cdf(bins_lim[2], mu, sigma) -\n",
    "    stats.norm.cdf(bins_lim[1], mu, sigma),\n",
    "    stats.norm.cdf(bins_lim[3], mu, sigma) -\n",
    "    stats.norm.cdf(bins_lim[2], mu, sigma),\n",
    "    stats.norm.cdf(bins_lim[4], mu, sigma) -\n",
    "    stats.norm.cdf(bins_lim[3], mu, sigma),\n",
    "    stats.norm.cdf(bins_lim[5], mu, sigma) -\n",
    "    stats.norm.cdf(bins_lim[4], mu, sigma),\n",
    "    stats.norm.sf(bins_lim[5], mu, sigma) \n",
    "] )\n",
    "\n",
    "n_gamma = n_obs.sum() * np.array( [\n",
    "    stats.gamma.cdf(bins_lim[1], alpha, zeta, beta),\n",
    "    stats.gamma.cdf(bins_lim[2], alpha, zeta, beta) -\n",
    "    stats.gamma.cdf(bins_lim[1], alpha, zeta, beta),\n",
    "    stats.gamma.cdf(bins_lim[3], alpha, zeta, beta) -\n",
    "    stats.gamma.cdf(bins_lim[2], alpha, zeta, beta),\n",
    "    stats.gamma.cdf(bins_lim[4], alpha, zeta, beta) -\n",
    "    stats.gamma.cdf(bins_lim[3], alpha, zeta, beta),\n",
    "    stats.gamma.cdf(bins_lim[5], alpha, zeta, beta) -\n",
    "    stats.gamma.cdf(bins_lim[4], alpha, zeta, beta),\n",
    "    stats.gamma.sf(bins_lim[5], alpha, zeta, beta) \n",
    "] )"
   ]
  },
  {
   "cell_type": "code",
   "execution_count": 6,
   "metadata": {},
   "outputs": [
    {
     "data": {
      "text/plain": [
       "(0.0, 0.672)"
      ]
     },
     "execution_count": 6,
     "metadata": {},
     "output_type": "execute_result"
    },
    {
     "data": {
      "image/png": "[encoded data removed]",
      "text/plain": [
       "<Figure size 432x288 with 1 Axes>"
      ]
     },
     "metadata": {
      "needs_background": "light"
     },
     "output_type": "display_data"
    }
   ],
   "source": [
    "# Graficamos los datos y las distribuciones.\n",
    "\n",
    "fig, ax = plt.subplots()\n",
    "\n",
    "df[\"Precipitation\"].hist( bins = bins_lim,\n",
    "    density = True, ax = ax )\n",
    "\n",
    "x = np.linspace(0, df[\"Precipitation\"].max(), 1000)\n",
    "y_1 = stats.gamma.pdf(x, alpha, zeta, beta)\n",
    "y_2 = stats.norm.pdf(x, mu, sigma)\n",
    "\n",
    "ax.plot(x, y_1)\n",
    "ax.plot(x, y_2)\n",
    "\n",
    "ax.set_title(\"Distibución Gamma vs. Normal\",\n",
    "    fontsize = 16)\n",
    "ax.set_xlabel(\"Precipitación [mm]\")\n",
    "ax.set_ylabel(\"P\")\n",
    "ax.legend([\"Gamma\", \"Normal\", \"Histograma\"])\n",
    "ax.set_xlim(0, bins[-1])\n",
    "ax.set_ylim(0)"
   ]
  },
  {
   "cell_type": "code",
   "execution_count": 7,
   "metadata": {},
   "outputs": [
    {
     "name": "stdout",
     "output_type": "stream",
     "text": [
      "Chi-square\n",
      "\n",
      "Normal\n",
      "Chi-square: 14.60\n",
      "p: 0.0022\n",
      "\n",
      "Gamma\n",
      "Chi-square: 4.92\n",
      "p: 0.1775\n"
     ]
    }
   ],
   "source": [
    "# Prueba chi-square.\n",
    "\n",
    "chi_norm = stats.chisquare(\n",
    "    n_obs, n_norm, ddof = 2)\n",
    "chi_gamma = stats.chisquare(\n",
    "    n_obs, n_gamma, ddof = 2)\n",
    "\n",
    "print(\"Chi-square\")\n",
    "print()\n",
    "print(\"Normal\")\n",
    "print(f\"Chi-square: {chi_norm.statistic:.2f}\")\n",
    "print(f\"p: {chi_norm.pvalue:.4f}\")\n",
    "print()\n",
    "print(\"Gamma\")\n",
    "print(f\"Chi-square: {chi_gamma.statistic:.2f}\")\n",
    "print(f\"p: {chi_gamma.pvalue:.4f}\")"
   ]
  }
 ],
 "metadata": {
  "interpreter": {
   "hash": "61e5a3f3aa95a130d195f400b073dbe78201ba87669bc387338808a06a837447"
  },
  "kernelspec": {
   "display_name": "Python 3.7.10 64-bit ('gv2': conda)",
   "name": "python3"
  },
  "language_info": {
   "codemirror_mode": {
    "name": "ipython",
    "version": 3
   },
   "file_extension": ".py",
   "mimetype": "text/x-python",
   "name": "python",
   "nbconvert_exporter": "python",
   "pygments_lexer": "ipython3",
   "version": "3.7.10"
  },
  "orig_nbformat": 4
 },
 "nbformat": 4,
 "nbformat_minor": 2
}
