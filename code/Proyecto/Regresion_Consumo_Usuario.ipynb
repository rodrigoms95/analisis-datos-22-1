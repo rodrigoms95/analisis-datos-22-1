{
  "nbformat": 4,
  "nbformat_minor": 0,
  "metadata": {
    "colab": {
      "name": "Regresion_Consumo_Usuario.ipynb",
      "provenance": [],
      "mount_file_id": "1U_ajP6UMJWywgWGB29NYHq3MmKAHduSK",
      "authorship_tag": "ABX9TyOQB7dZyHGlugJ5yn6J5ZYC"
    },
    "kernelspec": {
      "name": "python3",
      "display_name": "Python 3"
    },
    "language_info": {
      "name": "python"
    }
  },
  "cells": [
    {
      "cell_type": "code",
      "metadata": {
        "id": "D_4bSwjVYciJ",
        "colab": {
          "base_uri": "https://localhost:8080/"
        },
        "outputId": "ba3e72ef-f298-4a25-e0ee-12d4e4ef7710"
      },
      "source": [
        "# Proyecto final de Análisis de datos atmosféricos.\n",
        "# ICACC - UNAM - maestría.\n",
        "# 2 de diciembre de 2021.\n",
        "\n",
        "import pandas as pd\n",
        "import numpy as np\n",
        "\n",
        "from scipy import stats\n",
        "\n",
        "from matplotlib import pyplot as plt\n",
        "\n",
        "from statsmodels.tools.tools import add_constant\n",
        "from statsmodels.stats.diagnostic import lilliefors\n",
        "\n",
        "var_2 = \"Usuarios\"\n",
        "var = \"Consumo\""
      ],
      "execution_count": 1,
      "outputs": [
        {
          "output_type": "stream",
          "name": "stderr",
          "text": [
            "/usr/local/lib/python3.7/dist-packages/statsmodels/tools/_testing.py:19: FutureWarning: pandas.util.testing is deprecated. Use the functions in the public API at pandas.testing instead.\n",
            "  import pandas.util.testing as tm\n"
          ]
        }
      ]
    },
    {
      "cell_type": "code",
      "metadata": {
        "colab": {
          "base_uri": "https://localhost:8080/"
        },
        "id": "Kq4QwCC1Zqy9",
        "outputId": "506fc01a-a05b-4668-a458-8f4a452dae64"
      },
      "source": [
        "path = \"/content/drive/MyDrive/Colab/Subsidio_electricidad/\"\n",
        "path_data = path + \"data/Actual/data_yearly.csv\"\n",
        "\n",
        "path_r = path + \"/Graficas\"\n",
        "\n",
        "df = pd.read_csv( path_data )\n",
        "df = df.where(df.notna(), 0)\n",
        "\n",
        "# Unimos las tarifas 1 y DAC.\n",
        "df.rename( columns = {\"Consumo_1*\": \"Consumo\",\n",
        "    \"Usuarios_1*\": \"Usuarios\"}, inplace = True )\n",
        "df[\"Consumo\"] += df[\"Consumo_DAC\"]\n",
        "df[\"Usuarios\"] += df[\"Usuarios_DAC\"]\n",
        "df.drop([\"Consumo_DAC\", \"Usuarios_DAC\"],\n",
        "    axis = 1, inplace = True)\n",
        "#df[\"Consumo\"] /= df[\"Usuarios\"]\n",
        "df = df[df[\"Tarifa\"] == \"1\"]\n",
        "\n",
        "# Variables dummy\n",
        "#df = pd.concat([df, pd.get_dummies(\n",
        "#    df[\"Tarifa\"], prefix = \"tar\", drop_first = True\n",
        "#    ) ], axis = 1)\n",
        "#df = pd.concat([df, pd.get_dummies(\n",
        "#    df[\"CVE_ENT\"], prefix = \"ent\", drop_first = True\n",
        "#    ) ], axis = 1)\n",
        "#df = pd.concat([df, pd.get_dummies(\n",
        "#    df[\"CVE_INEGI\"], prefix = \"mun\", drop_first = True\n",
        "#    ) ], axis = 1)\n",
        "#df[\"2016\"] = df[\"Año\"].where(df[\"Año\"] == 2016, 0)\n",
        "#df[\"2016\"] = df[\"2016\"].where(df[\"2016\"] != 2016, 1)\n",
        "\n",
        "# Valores anómalos.\n",
        "print(df.loc[1947, \"NOM_MUN\"])\n",
        "print(df.loc[7491, \"NOM_MUN\"])\n",
        "print(df.loc[7302, \"NOM_MUN\"])\n",
        "print(df.loc[11258, \"NOM_MUN\"])\n",
        "df.drop(\n",
        "    [ 11257, 11258, 11259, 11260, 11261, 11262, 11263,\n",
        "      7301, 7302, 7303, 7304, 7305, 7306, 7307,\n",
        "      7490, 7491, 7492, 7493, 7494, 7495, 7496\n",
        "    , 1946, 1947, 1948, 1949, 1950, 1951, 1952\n",
        "    ], inplace = True)\n",
        "\n",
        "# Eliminamos las variables no numéricas.\n",
        "df = df.drop(columns = [ var_2,\n",
        "    \"CVE_MUN\", \"NOM_ENT\", \"NOM_MUN\",\n",
        "    \"$luz\", \"M_verano\", \"Tmean_max_2\"\n",
        "    , \"CVE_ENT\", \"Tarifa\", \"CVE_INEGI\",\n",
        "    ] )\n"
      ],
      "execution_count": 2,
      "outputs": [
        {
          "output_type": "stream",
          "name": "stdout",
          "text": [
            "Iztapalapa\n",
            "Natividad\n",
            "Guelatao de JuÃ¡rez\n",
            "Coatepec\n"
          ]
        }
      ]
    },
    {
      "cell_type": "code",
      "metadata": {
        "colab": {
          "base_uri": "https://localhost:8080/",
          "height": 549
        },
        "id": "akpsP9QMmbiA",
        "outputId": "c7c6ee57-ae63-4f25-8007-87e6e59bb75b"
      },
      "source": [
        "# Datos sin transformar.\n",
        "\n",
        "# Boxplot.\n",
        "fig, ax = plt.subplots()\n",
        "df.boxplot(column = var, ax = ax)\n",
        "\n",
        "ax.set_ylim(0)\n",
        "\n",
        "fig.savefig(path_r + \"boxplot_sin_transformar.png\")\n",
        "\n",
        "# Histograma.\n",
        "fig, ax = plt.subplots()\n",
        "df[var].hist(bins = 100, ax = ax, density = True)\n",
        "\n",
        "ax.set_xlabel(var)\n",
        "ax.set_ylabel(\"Frecuencia\")\n",
        "\n",
        "fig.savefig(path_r + \"histograma_sin_transformar.png\")"
      ],
      "execution_count": null,
      "outputs": [
        {
          "output_type": "display_data",
          "data": {
            "image/png": "[encoded data removed]",
            "text/plain": [
              "<Figure size 432x288 with 1 Axes>"
            ]
          },
          "metadata": {
            "needs_background": "light"
          }
        },
        {
          "output_type": "display_data",
          "data": {
            "image/png": "[encoded data removed]",
            "text/plain": [
              "<Figure size 432x288 with 1 Axes>"
            ]
          },
          "metadata": {
            "needs_background": "light"
          }
        }
      ]
    },
    {
      "cell_type": "code",
      "metadata": {
        "colab": {
          "base_uri": "https://localhost:8080/"
        },
        "id": "VDHrLIZoT98g",
        "outputId": "64d8393d-1a5c-4f7d-a6a2-5ccbc7de2af9"
      },
      "source": [
        "df[var].describe()"
      ],
      "execution_count": null,
      "outputs": [
        {
          "output_type": "execute_result",
          "data": {
            "text/plain": [
              "count    1.025500e+04\n",
              "mean     1.391574e+07\n",
              "std      5.134055e+07\n",
              "min      2.398000e+04\n",
              "25%      6.034470e+05\n",
              "50%      2.336321e+06\n",
              "75%      6.933942e+06\n",
              "max      8.886183e+08\n",
              "Name: Consumo, dtype: float64"
            ]
          },
          "metadata": {},
          "execution_count": 13
        }
      ]
    },
    {
      "cell_type": "code",
      "metadata": {
        "colab": {
          "base_uri": "https://localhost:8080/"
        },
        "id": "unWv5JKwUB3_",
        "outputId": "020c8219-97f8-4833-9ea6-9b160bd5cd2c"
      },
      "source": [
        "print(f\"skew: {df[var].skew()}\")\n",
        "print(f\"curtosis: {df[var].kurtosis()}\")"
      ],
      "execution_count": null,
      "outputs": [
        {
          "output_type": "stream",
          "name": "stdout",
          "text": [
            "skew: 8.096907173495795\n",
            "curtosis: 82.88055287646925\n"
          ]
        }
      ]
    },
    {
      "cell_type": "code",
      "metadata": {
        "colab": {
          "base_uri": "https://localhost:8080/",
          "height": 939
        },
        "id": "tSlumJJLo7Sj",
        "outputId": "6f0f590e-d02d-4119-879e-fe64939d17d3"
      },
      "source": [
        "# Datos transformados.\n",
        "\n",
        "df_2 = df.copy()\n",
        "df_2[var] = np.log(df[var])\n",
        "\n",
        "# Boxplot.\n",
        "fig, ax = plt.subplots()\n",
        "df_2.boxplot(column = var, ax = ax)\n",
        "\n",
        "ax.set_xticklabels( [\"log consumo\"] )\n",
        "\n",
        "fig.savefig(path_r + \"boxplot_log.png\")\n",
        "\n",
        "# Histograma con distribuciones.\n",
        "fig, ax = plt.subplots()\n",
        "df_2[var].hist(bins = 50, ax = ax, density = True)\n",
        "\n",
        "#loc, scale = stats.logistic.fit(df_2[var])\n",
        "#x = np.linspace(df_2[var].min(), df_2[var].max(), 1000)\n",
        "#logistic = stats.logistic.pdf(x, loc, scale)\n",
        "#ax.plot(x, logistic)\n",
        "\n",
        "alpha, loc, beta = stats.gamma.fit(df_2[var])\n",
        "x = np.linspace(df_2[var].min(), df_2[var].max(), 1000)\n",
        "gamma = stats.gamma.pdf(x, alpha, loc, beta)\n",
        "ax.plot(x, gamma)\n",
        "\n",
        "ax.set_xlabel(\"log consumo [kWh]\")\n",
        "ax.set_ylabel(\"Frecuencia\")\n",
        "\n",
        "fig.savefig(path_r + \"histograma_log.png\")\n",
        "\n",
        "# Lilliefors\n",
        "# Prueba Kolmogorov-Smirnov.\n",
        "\n",
        "# Tamaño de la muestra.\n",
        "n = df_2[var].shape[0]\n",
        "\n",
        "# Frecuencia acumulada.\n",
        "# Criterio de Weibull.\n",
        "F = ( np.arange( 1, n + 1 ) /\n",
        "    np.float64( n + 1 ) )\n",
        "\n",
        "# Frecuencia acumulada de\n",
        "# distribución normal.\n",
        "x = df_2[var].sort_values()\n",
        "F_n = stats.gamma.cdf(\n",
        "    x, alpha, loc, beta )\n",
        "\n",
        "# Lilliefors critical value.\n",
        "crit = 0.886 / np.sqrt(n)\n",
        "# Automático.\n",
        "# Smirnov test statistic.\n",
        "D = np.abs( F - F_n )\n",
        "D_s = D.max()\n",
        "\n",
        "print(\"\")\n",
        "print(\"Lilliefors\")\n",
        "print(f\"n   : {n}\")\n",
        "print(f\"D_s : {D_s:.3f}\")\n",
        "print(f\"crit: {crit:.3f}\")\n",
        "\n",
        "# Graficamos las distribuciones.\n",
        "x_n = np.linspace( df_2[var].min(),\n",
        "    df_2[var].max(), 1000 )\n",
        "#y_n = stats.logistic.cdf( x_n, loc, scale )\n",
        "y_n = stats.gamma.cdf( x_n, alpha, loc, beta )\n",
        "\n",
        "fig, ax = plt.subplots()\n",
        "ax.plot(x_n, y_n)\n",
        "\n",
        "# Grficamos la frecuencia acumulada.\n",
        "ax.plot(df_2[var].sort_values(),\n",
        "    F, drawstyle = \"steps\")\n",
        "\n",
        "ax.set_xlabel(\"log consumo [kWh]\")\n",
        "ax.set_ylabel(\"P\")\n",
        "ax.legend([\"Gamma\",\n",
        "    \"Datos\", \"Intervalo de\\nconfianza\"])\n",
        "ax.set_xlim( df_2[var].min(), df_2[var].max() )\n",
        "ax.set_ylim(0, 1)\n",
        "\n",
        "print(f\"alpha: {alpha:.2f}\")\n",
        "print(f\"loc  : {loc:.2f}\")\n",
        "print(f\"beta : {beta:.2f}\")\n",
        "\n",
        "fig.savefig(path_r + \"kolmogorov_log.png\")"
      ],
      "execution_count": null,
      "outputs": [
        {
          "output_type": "stream",
          "name": "stdout",
          "text": [
            "\n",
            "Lilliefors\n",
            "n   : 10255\n",
            "D_s : 0.028\n",
            "crit: 0.009\n",
            "alpha: 40.05\n",
            "loc  : 3.28\n",
            "beta : 0.28\n"
          ]
        },
        {
          "output_type": "display_data",
          "data": {
            "image/png": "[encoded data removed]",
            "text/plain": [
              "<Figure size 432x288 with 1 Axes>"
            ]
          },
          "metadata": {
            "needs_background": "light"
          }
        },
        {
          "output_type": "display_data",
          "data": {
            "image/png": "[encoded data removed]",
            "text/plain": [
              "<Figure size 432x288 with 1 Axes>"
            ]
          },
          "metadata": {
            "needs_background": "light"
          }
        },
        {
          "output_type": "display_data",
          "data": {
            "image/png": "[encoded data removed]",
            "text/plain": [
              "<Figure size 432x288 with 1 Axes>"
            ]
          },
          "metadata": {
            "needs_background": "light"
          }
        }
      ]
    },
    {
      "cell_type": "code",
      "metadata": {
        "colab": {
          "base_uri": "https://localhost:8080/"
        },
        "id": "WHroxIoRV_sJ",
        "outputId": "be250c31-f8ab-43db-a2da-c2d270525e17"
      },
      "source": [
        "df_2[var].describe()"
      ],
      "execution_count": null,
      "outputs": [
        {
          "output_type": "execute_result",
          "data": {
            "text/plain": [
              "count    10255.000000\n",
              "mean        14.646919\n",
              "std          1.793517\n",
              "min         10.084975\n",
              "25%         13.310413\n",
              "50%         14.664088\n",
              "75%         15.751939\n",
              "max         20.605178\n",
              "Name: Consumo, dtype: float64"
            ]
          },
          "metadata": {},
          "execution_count": 17
        }
      ]
    },
    {
      "cell_type": "code",
      "metadata": {
        "colab": {
          "base_uri": "https://localhost:8080/"
        },
        "id": "uZ1D72RfWEQV",
        "outputId": "157302d6-a377-4b51-bbf9-bf84f097ad85"
      },
      "source": [
        "print(f\"skew: {df_2[var].skew()}\")\n",
        "print(f\"curtosis: {df_2[var].kurtosis()}\")"
      ],
      "execution_count": null,
      "outputs": [
        {
          "output_type": "stream",
          "name": "stdout",
          "text": [
            "skew: 0.2804394826323087\n",
            "curtosis: 0.03306070495235014\n"
          ]
        }
      ]
    },
    {
      "cell_type": "code",
      "metadata": {
        "colab": {
          "base_uri": "https://localhost:8080/"
        },
        "id": "IqnOkaZcuW7t",
        "outputId": "4c9af1a3-e799-494b-adfc-174d1638a689"
      },
      "source": [
        "# Prueba chi cuadrada.\n",
        "\n",
        "n_obs, bins = np.histogram( \n",
        "    df_2[var], bins = 50)\n",
        "\n",
        "#loc, scale = stats.logistic.fit(df_2[var])\n",
        "#def dist(x):\n",
        "#    y = stats.logistic.cdf(x, loc, scale)\n",
        "#    return y\n",
        "\n",
        "alpha, loc, beta = stats.gamma.fit(df_2[var])\n",
        "def dist(x):\n",
        "    y = stats.gamma.cdf(x, alpha, loc, beta)\n",
        "    return y\n",
        "\n",
        "#alpha, loc, beta = stats.weibull_min.fit(df_2[var])\n",
        "#def dist(x):\n",
        "#    y = stats.weibull_min.cdf(x, alpha, loc, beta)\n",
        "#    return y\n",
        "\n",
        "#mu, sigma = stats.norm.fit(df_2[var])\n",
        "#def dist(x):\n",
        "#    y = stats.norm.cdf(x, mu, sigma)\n",
        "#    return y\n",
        "\n",
        "# Número de parámetros.\n",
        "params = 3\n",
        "\n",
        "# Discretizamos la distribución normal.\n",
        "prob = [dist(bins[1])]\n",
        "for i in range(2, len(bins) - 1):\n",
        "    prob.append( dist(bins[i]) - dist(bins[i - 1]) )\n",
        "prob.append( 1 - dist(bins[-1] ) )\n",
        "prob = np.array(prob)\n",
        "n_dist = n_obs.sum() * prob\n",
        "\n",
        "# Prueba chi-square.\n",
        "alpha_test = 0.05\n",
        "clases = bins.shape[0] - 1\n",
        "nu = clases - params - 1\n",
        "crit = stats.chi.ppf(1 - alpha_test, nu)\n",
        "\n",
        "# Automática.\n",
        "chi_test = stats.chisquare(\n",
        "    n_obs, n_dist, ddof = params)\n",
        "chi = chi_test.statistic\n",
        "p = chi_test.pvalue\n",
        "\n",
        "print(\"\")\n",
        "print(\"Chi-square\")\n",
        "print(f\"Chi : {chi:.2f}\")\n",
        "print(f\"p   : {p:.4f}\")\n",
        "print(f\"crit: {crit:.4f}\")"
      ],
      "execution_count": null,
      "outputs": [
        {
          "output_type": "stream",
          "name": "stdout",
          "text": [
            "\n",
            "Chi-square\n",
            "Chi : 431.24\n",
            "p   : 0.0000\n",
            "crit: 7.9265\n"
          ]
        }
      ]
    },
    {
      "cell_type": "code",
      "metadata": {
        "colab": {
          "base_uri": "https://localhost:8080/",
          "height": 394
        },
        "id": "V8OgE6UKajg6",
        "outputId": "bdd6105b-f2ce-44f7-a013-859017d995d0"
      },
      "source": [
        "# Selección hacia adelante.\n",
        "\n",
        "# Sistema.\n",
        "df_2 = df.copy()\n",
        "\n",
        "# Features.\n",
        "x = df_2.iloc[:, 1:19].copy()\n",
        "#x.drop(columns = \"Area\", inplace = True)\n",
        "#x.drop(columns = \"lon\", inplace = True)\n",
        "#x.drop(columns = \"lat\", inplace = True)\n",
        "#x.drop(columns = \"PIB\", inplace = True)\n",
        "\n",
        "x[\"HDD_mean\"] = np.log(  - x[\"HDD_mean\"]     )\n",
        "x[\"CDD_mean\"] = np.log(    x[\"CDD_mean\"]     )\n",
        "x[\"PCI\"] = np.log( x[\"PCI\"] )\n",
        "x[\"Densidad_poblacion\"] = np.log(\n",
        "    x[\"Densidad_poblacion\"] )\n",
        "\n",
        "# Predictando.\n",
        "y = np.log(df_2[var])\n",
        "YY = np.array([y]).T\n",
        "\n",
        "# Variables para la tabla final.\n",
        "n = x.shape[1]\n",
        "x_j = []\n",
        "R_j = []\n",
        "F_j = []\n",
        "p_F = []\n",
        "names = []\n",
        "J_j = []\n",
        "p_J = []\n",
        "\n",
        "# Evaluamos 10 variables.\n",
        "for p in range(10):\n",
        "\n",
        "    R = []\n",
        "    F = []\n",
        "    res = []\n",
        "    jarque = []\n",
        "    p_jarq = []\n",
        "\n",
        "    # Ajustamos una variable a la vez.\n",
        "    for i in range(x.shape[1]):\n",
        "\n",
        "        # Regresión lineal\n",
        "        x_i = x.iloc[:, i]\n",
        "        #XX = add_constant(x_i)\n",
        "        XX = np.ones_like([x_i]).T\n",
        "        if len(x_j) != 0:\n",
        "            for j in range( len(x_j) ):\n",
        "                XX = np.concatenate( \n",
        "                  ( XX, np.array( [x_j[j]] ).T ),\n",
        "                  axis = 1 )\n",
        "        \n",
        "        XX = np.concatenate( \n",
        "            ( XX, np.array( [x_i] ).T ),\n",
        "            axis = 1 )\n",
        "        \n",
        "        XX_sq = XX.T @ XX\n",
        "        XX_inv = np.linalg.inv(XX_sq)\n",
        "        BB = XX_inv @ ( XX.T @ YY )\n",
        "        \n",
        "        y_reg = ( XX @ BB )[:,0]\n",
        "\n",
        "        # Cantidad de predictores.\n",
        "        k = len(x_j) + 1\n",
        "\n",
        "        # ANOVA\n",
        "        SST = ( ( y - y.mean() ) ** 2 ).sum()\n",
        "        res = y_reg - y\n",
        "        SSE = ( res ** 2 ).sum()\n",
        "        Se = np.sqrt( SSE / ( y.shape[0] - k - 1 ) )\n",
        "        R.append( 1 - SSE / SST )\n",
        "        F.append( ( SST - SSE ) / ( Se ** 2 * k ) )\n",
        "        jarque.append( stats.jarque_bera(res)[0] )\n",
        "        p_jarq.append( stats.jarque_bera(res)[1] )\n",
        "    \n",
        "    # Seleccionamos la variable con mayor R.\n",
        "    R_j.append( max( R ) )\n",
        "    ind = R.index( R_j[-1] )\n",
        "    F_j.append( F[ ind ] )\n",
        "    p_F.append( stats.f.cdf( F_j[-1],\n",
        "        y.shape[0] - k - 1, k ) )\n",
        "    x_j.append( x.iloc[ : , ind ] )\n",
        "    names.append( x_j[-1].name )\n",
        "    J_j.append( jarque[ ind ] )\n",
        "    p_J.append( p_jarq[ ind ] )\n",
        "\n",
        "    x.drop(columns = names[-1], inplace = True)\n",
        "\n",
        "# Resultados.\n",
        "result = pd.DataFrame( [ names, R_j, F_j,\n",
        "     p_F, J_j, p_J ] ).transpose()\n",
        "result.rename( columns = {\n",
        "    0: \"Variable\", 1: \"R\", 2: \"F\",\n",
        "    3:\"p_F\", 4: \"Jarque-Bera\", 5: \"p_J\"\n",
        "    }, inplace = True )\n",
        "result.index.rename(\"Iteracion\", inplace = True)\n",
        "result.index += 1\n",
        "\n",
        "result"
      ],
      "execution_count": null,
      "outputs": [
        {
          "output_type": "execute_result",
          "data": {
            "text/html": [
              "<div>\n",
              "<style scoped>\n",
              "    .dataframe tbody tr th:only-of-type {\n",
              "        vertical-align: middle;\n",
              "    }\n",
              "\n",
              "    .dataframe tbody tr th {\n",
              "        vertical-align: top;\n",
              "    }\n",
              "\n",
              "    .dataframe thead th {\n",
              "        text-align: right;\n",
              "    }\n",
              "</style>\n",
              "<table border=\"1\" class=\"dataframe\">\n",
              "  <thead>\n",
              "    <tr style=\"text-align: right;\">\n",
              "      <th></th>\n",
              "      <th>Variable</th>\n",
              "      <th>R</th>\n",
              "      <th>F</th>\n",
              "      <th>p_F</th>\n",
              "      <th>Jarque-Bera</th>\n",
              "      <th>p_J</th>\n",
              "    </tr>\n",
              "    <tr>\n",
              "      <th>Iteracion</th>\n",
              "      <th></th>\n",
              "      <th></th>\n",
              "      <th></th>\n",
              "      <th></th>\n",
              "      <th></th>\n",
              "      <th></th>\n",
              "    </tr>\n",
              "  </thead>\n",
              "  <tbody>\n",
              "    <tr>\n",
              "      <th>1</th>\n",
              "      <td>PCI</td>\n",
              "      <td>0.463076</td>\n",
              "      <td>8842.81</td>\n",
              "      <td>0.991516</td>\n",
              "      <td>96.2116</td>\n",
              "      <td>0</td>\n",
              "    </tr>\n",
              "    <tr>\n",
              "      <th>2</th>\n",
              "      <td>Poblacion</td>\n",
              "      <td>0.606482</td>\n",
              "      <td>7900.1</td>\n",
              "      <td>0.999873</td>\n",
              "      <td>73.9754</td>\n",
              "      <td>1.11022e-16</td>\n",
              "    </tr>\n",
              "    <tr>\n",
              "      <th>3</th>\n",
              "      <td>Densidad_poblacion</td>\n",
              "      <td>0.668062</td>\n",
              "      <td>6877.08</td>\n",
              "      <td>0.999998</td>\n",
              "      <td>35.8117</td>\n",
              "      <td>1.67336e-08</td>\n",
              "    </tr>\n",
              "    <tr>\n",
              "      <th>4</th>\n",
              "      <td>lat</td>\n",
              "      <td>0.71252</td>\n",
              "      <td>6351.16</td>\n",
              "      <td>1</td>\n",
              "      <td>61.0364</td>\n",
              "      <td>5.57332e-14</td>\n",
              "    </tr>\n",
              "    <tr>\n",
              "      <th>5</th>\n",
              "      <td>Area</td>\n",
              "      <td>0.728159</td>\n",
              "      <td>5490.63</td>\n",
              "      <td>1</td>\n",
              "      <td>130.711</td>\n",
              "      <td>0</td>\n",
              "    </tr>\n",
              "    <tr>\n",
              "      <th>6</th>\n",
              "      <td>PIB</td>\n",
              "      <td>0.735377</td>\n",
              "      <td>4746.47</td>\n",
              "      <td>1</td>\n",
              "      <td>267.422</td>\n",
              "      <td>0</td>\n",
              "    </tr>\n",
              "    <tr>\n",
              "      <th>7</th>\n",
              "      <td>CDD_p90</td>\n",
              "      <td>0.739661</td>\n",
              "      <td>4159.03</td>\n",
              "      <td>1</td>\n",
              "      <td>212.396</td>\n",
              "      <td>0</td>\n",
              "    </tr>\n",
              "    <tr>\n",
              "      <th>8</th>\n",
              "      <td>Tmax</td>\n",
              "      <td>0.743518</td>\n",
              "      <td>3712.78</td>\n",
              "      <td>1</td>\n",
              "      <td>184.306</td>\n",
              "      <td>0</td>\n",
              "    </tr>\n",
              "    <tr>\n",
              "      <th>9</th>\n",
              "      <td>lon</td>\n",
              "      <td>0.746311</td>\n",
              "      <td>3348.78</td>\n",
              "      <td>1</td>\n",
              "      <td>186.984</td>\n",
              "      <td>0</td>\n",
              "    </tr>\n",
              "    <tr>\n",
              "      <th>10</th>\n",
              "      <td>Pre_Tmean</td>\n",
              "      <td>0.750255</td>\n",
              "      <td>3077.38</td>\n",
              "      <td>1</td>\n",
              "      <td>153.074</td>\n",
              "      <td>0</td>\n",
              "    </tr>\n",
              "  </tbody>\n",
              "</table>\n",
              "</div>"
            ],
            "text/plain": [
              "                     Variable         R  ... Jarque-Bera          p_J\n",
              "Iteracion                                ...                         \n",
              "1                         PCI  0.463076  ...     96.2116            0\n",
              "2                   Poblacion  0.606482  ...     73.9754  1.11022e-16\n",
              "3          Densidad_poblacion  0.668062  ...     35.8117  1.67336e-08\n",
              "4                         lat   0.71252  ...     61.0364  5.57332e-14\n",
              "5                        Area  0.728159  ...     130.711            0\n",
              "6                         PIB  0.735377  ...     267.422            0\n",
              "7                     CDD_p90  0.739661  ...     212.396            0\n",
              "8                        Tmax  0.743518  ...     184.306            0\n",
              "9                         lon  0.746311  ...     186.984            0\n",
              "10                  Pre_Tmean  0.750255  ...     153.074            0\n",
              "\n",
              "[10 rows x 6 columns]"
            ]
          },
          "metadata": {},
          "execution_count": 7
        }
      ]
    },
    {
      "cell_type": "code",
      "metadata": {
        "colab": {
          "base_uri": "https://localhost:8080/",
          "height": 206
        },
        "id": "VHaH7OdkLKdc",
        "outputId": "7d9e1265-0508-41f1-b616-ac9c432f6921"
      },
      "source": [
        "# Selección hacia atrás con minimización de Jarque-Bera.\n",
        "\n",
        "df_2 = df.copy()\n",
        "\n",
        "# Features.\n",
        "x = df_2.iloc[:, 1:19].copy()\n",
        "x[\"HDD_mean\"] = np.log(  - x[\"HDD_mean\"]     )\n",
        "x[\"CDD_mean\"] = np.log(    x[\"CDD_mean\"]     )\n",
        "x[\"PCI\"] = np.log( x[\"PCI\"] )\n",
        "x[\"Densidad_poblacion\"] = np.log(\n",
        "    x[\"Densidad_poblacion\"] )\n",
        "\n",
        "# Predictando.\n",
        "y = np.log(df_2[var])\n",
        "YY = np.array([y]).T\n",
        "\n",
        "# Variables para la tabla final.\n",
        "n = x.shape[1]\n",
        "x_j = []\n",
        "R_j = []\n",
        "F_j = []\n",
        "p_F = []\n",
        "names = []\n",
        "J_j = []\n",
        "p_J = []\n",
        "\n",
        "x_j.append(x[\"PCI\"])\n",
        "x.drop(columns = \"PCI\", inplace = True)\n",
        "x_j.append(x[\"Poblacion\"])\n",
        "x.drop(columns = \"Poblacion\", inplace = True)\n",
        "q = 2\n",
        "# Evaluamos 3 variables.\n",
        "for p in range(4):\n",
        "\n",
        "    R = []\n",
        "    F = []\n",
        "    res = []\n",
        "    jarque = []\n",
        "    p_jarq = []\n",
        "\n",
        "    # Ajustamos una variable a la vez.\n",
        "    for i in range(x.shape[1]):\n",
        "\n",
        "        # Regresión lineal\n",
        "        x_i = x.iloc[:, i]\n",
        "        #XX = add_constant(x_i)\n",
        "        XX = np.ones_like([x_i]).T\n",
        "        if len(x_j) != 0:\n",
        "            for j in range( len(x_j) ):\n",
        "                XX = np.concatenate( \n",
        "                  ( XX, np.array( [x_j[j]] ).T ),\n",
        "                  axis = 1 )\n",
        "        \n",
        "        XX = np.concatenate( \n",
        "            ( XX, np.array( [x_i] ).T ),\n",
        "            axis = 1 )\n",
        "        XX_2 = XX.copy()\n",
        "        \n",
        "        XX_sq = XX.T @ XX\n",
        "        XX_inv = np.linalg.inv(XX_sq)\n",
        "        BB = XX_inv @ ( XX.T @ YY )\n",
        "        \n",
        "        y_reg = ( XX @ BB )[:,0]\n",
        "\n",
        "        # Cantidad de predictores.\n",
        "        k = len(x_j) + 1 + q\n",
        "\n",
        "        # ANOVA\n",
        "        SST = ( ( y - y.mean() ) ** 2 ).sum()\n",
        "        res = y_reg - y\n",
        "        SSE = ( res ** 2 ).sum()\n",
        "        Se = np.sqrt( SSE / ( y.shape[0] - k - 1 ) )\n",
        "        R.append( 1 - SSE / SST )\n",
        "        F.append( ( SST - SSE ) / ( Se ** 2 * k ) )\n",
        "        jarque.append( stats.jarque_bera(res)[0] )\n",
        "        p_jarq.append( stats.jarque_bera(res)[1] )\n",
        "    \n",
        "    # Seleccionamos la variable con menor Jarque Bera.\n",
        "    J_j.append( min( jarque ) )\n",
        "    ind = jarque.index( J_j[-1] )\n",
        "    p_J.append( p_jarq[ind] )\n",
        "    R_j.append( R[ind] )\n",
        "    F_j.append( R[ind] )\n",
        "    p_F.append( stats.f.cdf( F_j[-1],\n",
        "        y.shape[0] - k - 1, k ) )\n",
        "    x_j.append( x.iloc[ : , ind ] )\n",
        "    names.append( x_j[-1].name )\n",
        "\n",
        "    x.drop(columns = names[-1], inplace = True)\n",
        "\n",
        "result = pd.DataFrame( [ names, R_j,\n",
        "    #F_j, p_F, \n",
        "    J_j, p_J ] ).transpose()\n",
        "result.rename( columns = {\n",
        "    0: \"Variable\", 1: \"R\"\n",
        "    #, 2: \"F\", 3:\"p_F\"\n",
        "    , 2: \"Jarque-Bera\", 3: \"p_J\"\n",
        "    }, inplace = True )\n",
        "result.index.rename(\"Iteración\", inplace = True)\n",
        "result.index += ( 1 )#+ q )\n",
        "\n",
        "result"
      ],
      "execution_count": null,
      "outputs": [
        {
          "output_type": "execute_result",
          "data": {
            "text/html": [
              "<div>\n",
              "<style scoped>\n",
              "    .dataframe tbody tr th:only-of-type {\n",
              "        vertical-align: middle;\n",
              "    }\n",
              "\n",
              "    .dataframe tbody tr th {\n",
              "        vertical-align: top;\n",
              "    }\n",
              "\n",
              "    .dataframe thead th {\n",
              "        text-align: right;\n",
              "    }\n",
              "</style>\n",
              "<table border=\"1\" class=\"dataframe\">\n",
              "  <thead>\n",
              "    <tr style=\"text-align: right;\">\n",
              "      <th></th>\n",
              "      <th>Variable</th>\n",
              "      <th>R</th>\n",
              "      <th>Jarque-Bera</th>\n",
              "      <th>p_J</th>\n",
              "    </tr>\n",
              "    <tr>\n",
              "      <th>Iteración</th>\n",
              "      <th></th>\n",
              "      <th></th>\n",
              "      <th></th>\n",
              "      <th></th>\n",
              "    </tr>\n",
              "  </thead>\n",
              "  <tbody>\n",
              "    <tr>\n",
              "      <th>1</th>\n",
              "      <td>Densidad_poblacion</td>\n",
              "      <td>0.668062</td>\n",
              "      <td>35.8117</td>\n",
              "      <td>1.67336e-08</td>\n",
              "    </tr>\n",
              "    <tr>\n",
              "      <th>2</th>\n",
              "      <td>CDD_mean</td>\n",
              "      <td>0.695769</td>\n",
              "      <td>5.67374</td>\n",
              "      <td>0.0586089</td>\n",
              "    </tr>\n",
              "    <tr>\n",
              "      <th>3</th>\n",
              "      <td>Pre_Tmean</td>\n",
              "      <td>0.701618</td>\n",
              "      <td>0.961647</td>\n",
              "      <td>0.618274</td>\n",
              "    </tr>\n",
              "    <tr>\n",
              "      <th>4</th>\n",
              "      <td>CDD_p90</td>\n",
              "      <td>0.702864</td>\n",
              "      <td>0.27843</td>\n",
              "      <td>0.870041</td>\n",
              "    </tr>\n",
              "  </tbody>\n",
              "</table>\n",
              "</div>"
            ],
            "text/plain": [
              "                     Variable         R Jarque-Bera          p_J\n",
              "Iteración                                                       \n",
              "1          Densidad_poblacion  0.668062     35.8117  1.67336e-08\n",
              "2                    CDD_mean  0.695769     5.67374    0.0586089\n",
              "3                   Pre_Tmean  0.701618    0.961647     0.618274\n",
              "4                     CDD_p90  0.702864     0.27843     0.870041"
            ]
          },
          "metadata": {},
          "execution_count": 8
        }
      ]
    },
    {
      "cell_type": "code",
      "metadata": {
        "colab": {
          "base_uri": "https://localhost:8080/"
        },
        "id": "Tk4dYsowGiZN",
        "outputId": "d89cf437-d5be-4859-a8d3-755a3a7589f9"
      },
      "source": [
        "# Regresión final.\n",
        "\n",
        "df_2 = df.copy()\n",
        "\n",
        "# Regresión lineal\n",
        "\n",
        "# Features.\n",
        "x = df_2[ [\"PCI\"\n",
        "    , \"Poblacion\"\n",
        "    , \"Densidad_poblacion\"\n",
        "    , \"CDD_mean\"\n",
        "    , \"Pre_Tmean\"\n",
        "    #, \"PIB\"\n",
        "    #, \"Año\"\n",
        "    ] ].copy()\n",
        "x[\"CDD_mean\"] = np.log(    x[\"CDD_mean\"]     )\n",
        "x[\"PCI\"] = np.log( x[\"PCI\"] )\n",
        "x[\"Densidad_poblacion\"] = np.log(\n",
        "    x[\"Densidad_poblacion\"] )\n",
        "\n",
        "# Predictando.\n",
        "y = np.log(df_2[var])\n",
        "YY = np.array([y]).T\n",
        "\n",
        "x = add_constant(x)\n",
        "XX = x.values\n",
        "\n",
        "XX_sq = XX.T @ XX\n",
        "XX_inv = np.linalg.inv(XX_sq)\n",
        "BB = XX_inv @ ( XX.T @ YY )\n",
        "        \n",
        "# Y gorro.\n",
        "y_reg = ( XX @ BB )[:,0]\n",
        "y_reg_2 = y_reg.copy()\n",
        "\n",
        "# Cantidad de predictores.\n",
        "k = x.shape[1]\n",
        "\n",
        "res = y_reg - y\n",
        "SST = ( ( y - y.mean() ) ** 2 ).sum()\n",
        "SSE = ( res ** 2 ).sum()\n",
        "Se = np.sqrt( SSE / ( y.shape[0] - k - 1 ) )\n",
        "R =  1 - SSE / SST\n",
        "F = ( SST - SSE ) / ( Se ** 2 * k )\n",
        "\n",
        "print(f\"            F: {F:.2f}\")\n",
        "print(f\"            R: {R:.5f}\")\n",
        "print(f\"  Jarque-Bera: {stats.jarque_bera(res)}\")"
      ],
      "execution_count": null,
      "outputs": [
        {
          "output_type": "stream",
          "name": "stdout",
          "text": [
            "            F: 4016.20\n",
            "            R: 0.70162\n",
            "  Jarque-Bera: (0.9616465339543873, 0.6182741775120482)\n"
          ]
        }
      ]
    },
    {
      "cell_type": "code",
      "metadata": {
        "colab": {
          "base_uri": "https://localhost:8080/",
          "height": 583
        },
        "id": "XPxHs6Z6fs1D",
        "outputId": "65c22c29-e637-4c84-9f4a-8d5bb2db1b3c"
      },
      "source": [
        "# Q-Q plot\n",
        "fig, ax = plt.subplots()\n",
        "qqplot = stats.probplot(res, plot = ax)\n",
        "ax.get_lines()[0].set_markersize(1)\n",
        "\n",
        "ax.set_title(None)\n",
        "ax.set_xlabel(\"normal\")\n",
        "ax.set_ylabel(\"residual\")\n",
        "ax.legend([\"Residuales\", \"Normal\"])\n",
        "\n",
        "fig.savefig(path_r + \"QQ_plot.png\")\n",
        "\n",
        "print(f\"Filliben Q-Q plot test: {qqplot[1][2]:.4f}\")\n",
        "\n",
        "fig, ax = plt.subplots()\n",
        "ax.hist(res, bins = 100, density = True)\n",
        "\n",
        "mu, sigma = stats.norm.fit(res)\n",
        "x = np.linspace(res.min(), res.max(), 1000)\n",
        "norm = stats.norm.pdf(x, mu, sigma)\n",
        "ax.plot(x, norm)\n",
        "\n",
        "ax.legend([\"Normal\", \"Residuales\"])\n",
        "\n",
        "fig.savefig(path_r + \"histograma_res.png\")\n",
        "\n",
        "print(f\"mu: {mu}\")\n",
        "print(f\"mu: {sigma}\")"
      ],
      "execution_count": null,
      "outputs": [
        {
          "output_type": "stream",
          "name": "stdout",
          "text": [
            "Filliben Q-Q plot test: 0.9997\n",
            "mu: -1.2430721710116826e-12\n",
            "mu: 0.9796493065429063\n"
          ]
        },
        {
          "output_type": "display_data",
          "data": {
            "image/png": "[encoded data removed]",
            "text/plain": [
              "<Figure size 432x288 with 1 Axes>"
            ]
          },
          "metadata": {
            "needs_background": "light"
          }
        },
        {
          "output_type": "display_data",
          "data": {
            "image/png": "[encoded data removed]",
            "text/plain": [
              "<Figure size 432x288 with 1 Axes>"
            ]
          },
          "metadata": {
            "needs_background": "light"
          }
        }
      ]
    },
    {
      "cell_type": "code",
      "metadata": {
        "colab": {
          "base_uri": "https://localhost:8080/"
        },
        "id": "_nvGlzsEoz0U",
        "outputId": "2e1aa8e6-1f29-4fd4-bd8d-3717e3919c55"
      },
      "source": [
        "# Valores anómalos\n",
        "\n",
        "res.sort_values().head(40).index"
      ],
      "execution_count": null,
      "outputs": [
        {
          "output_type": "execute_result",
          "data": {
            "text/plain": [
              "Int64Index([ 933,  935, 1255,  937,  932,  934,  755, 1371,  968,  931, 1370,\n",
              "            1254, 1257, 5427, 1253, 1256,  754,  967,  936, 1342,  856, 1259,\n",
              "             730,  996, 1258, 2816, 2817,  994,  998,  969,  995,  997,  970,\n",
              "            2818,  855, 2814,  729, 1367,  733,  751],\n",
              "           dtype='int64')"
            ]
          },
          "metadata": {},
          "execution_count": 11
        }
      ]
    }
  ]
}