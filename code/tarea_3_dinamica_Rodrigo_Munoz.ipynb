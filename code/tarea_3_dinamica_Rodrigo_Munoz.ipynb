{
 "cells": [
  {
   "cell_type": "code",
   "execution_count": 2,
   "source": [
    "# Calcula la temperatura de una parcela en\r\n",
    "# diferentes niveles de presión.\r\n",
    "\r\n",
    "import pandas as pd\r\n",
    "import numpy as np\r\n",
    "\r\n",
    "import matplotlib.pyplot as plt"
   ],
   "outputs": [],
   "metadata": {}
  },
  {
   "cell_type": "code",
   "execution_count": 10,
   "source": [
    "# Valores para el aire.\r\n",
    "K = 273.15\r\n",
    "R = 287.05\r\n",
    "c_p = 1004\r\n",
    "\r\n",
    "# Se crea la tabla con los rangos de\r\n",
    "# presión y la temperatura inicial.\r\n",
    "df = pd.DataFrame({\"P\": np.arange(100, 1010, 10)[::-1],\r\n",
    "    \"T\": [20 + K] + [np.nan] * 90})\r\n",
    "\r\n",
    "# Se calcula la temperatura.\r\n",
    "df.loc[1:, \"T\"] = ( df.at[0, \"T\"] *\r\n",
    "    ( df.loc[1:, \"P\"] / df.at[0, \"P\"]  ) ** (R / c_p) )\r\n",
    "\r\n",
    "df[\"T\"] -= K\r\n",
    "\r\n",
    "df"
   ],
   "outputs": [
    {
     "output_type": "execute_result",
     "data": {
      "text/html": [
       "<div>\n",
       "<style scoped>\n",
       "    .dataframe tbody tr th:only-of-type {\n",
       "        vertical-align: middle;\n",
       "    }\n",
       "\n",
       "    .dataframe tbody tr th {\n",
       "        vertical-align: top;\n",
       "    }\n",
       "\n",
       "    .dataframe thead th {\n",
       "        text-align: right;\n",
       "    }\n",
       "</style>\n",
       "<table border=\"1\" class=\"dataframe\">\n",
       "  <thead>\n",
       "    <tr style=\"text-align: right;\">\n",
       "      <th></th>\n",
       "      <th>P</th>\n",
       "      <th>T</th>\n",
       "    </tr>\n",
       "  </thead>\n",
       "  <tbody>\n",
       "    <tr>\n",
       "      <th>0</th>\n",
       "      <td>1000</td>\n",
       "      <td>20.000000</td>\n",
       "    </tr>\n",
       "    <tr>\n",
       "      <th>1</th>\n",
       "      <td>990</td>\n",
       "      <td>19.158856</td>\n",
       "    </tr>\n",
       "    <tr>\n",
       "      <th>2</th>\n",
       "      <td>980</td>\n",
       "      <td>18.311622</td>\n",
       "    </tr>\n",
       "    <tr>\n",
       "      <th>3</th>\n",
       "      <td>970</td>\n",
       "      <td>17.458192</td>\n",
       "    </tr>\n",
       "    <tr>\n",
       "      <th>4</th>\n",
       "      <td>960</td>\n",
       "      <td>16.598456</td>\n",
       "    </tr>\n",
       "    <tr>\n",
       "      <th>...</th>\n",
       "      <td>...</td>\n",
       "      <td>...</td>\n",
       "    </tr>\n",
       "    <tr>\n",
       "      <th>86</th>\n",
       "      <td>140</td>\n",
       "      <td>-106.055382</td>\n",
       "    </tr>\n",
       "    <tr>\n",
       "      <th>87</th>\n",
       "      <td>130</td>\n",
       "      <td>-109.558530</td>\n",
       "    </tr>\n",
       "    <tr>\n",
       "      <th>88</th>\n",
       "      <td>120</td>\n",
       "      <td>-113.259763</td>\n",
       "    </tr>\n",
       "    <tr>\n",
       "      <th>89</th>\n",
       "      <td>110</td>\n",
       "      <td>-117.188301</td>\n",
       "    </tr>\n",
       "    <tr>\n",
       "      <th>90</th>\n",
       "      <td>100</td>\n",
       "      <td>-121.380842</td>\n",
       "    </tr>\n",
       "  </tbody>\n",
       "</table>\n",
       "<p>91 rows × 2 columns</p>\n",
       "</div>"
      ],
      "text/plain": [
       "       P           T\n",
       "0   1000   20.000000\n",
       "1    990   19.158856\n",
       "2    980   18.311622\n",
       "3    970   17.458192\n",
       "4    960   16.598456\n",
       "..   ...         ...\n",
       "86   140 -106.055382\n",
       "87   130 -109.558530\n",
       "88   120 -113.259763\n",
       "89   110 -117.188301\n",
       "90   100 -121.380842\n",
       "\n",
       "[91 rows x 2 columns]"
      ]
     },
     "metadata": {},
     "execution_count": 10
    }
   ],
   "metadata": {}
  },
  {
   "cell_type": "code",
   "execution_count": 11,
   "source": [
    "# Se grafica.\r\n",
    "ax = df.plot(\"T\", \"P\")\r\n",
    "\r\n",
    "# Ajustes de la gráfica.\r\n",
    "ax.invert_yaxis()\r\n",
    "ax.set_title(\"Variación de temperatura de una parcela\\n\"\r\n",
    "    + \"a diferentes niveles de presión\", fontsize = 16)\r\n",
    "ax.grid(axis = \"y\")\r\n",
    "ax.grid(axis = \"x\", which = \"both\")\r\n",
    "ax.legend([])\r\n",
    "ax.set_xlabel(\"Temperatura [°C]\")\r\n",
    "ax.set_ylabel(\"Presión [hPa]\")\r\n",
    "ax.set_xlim(-130, 20)\r\n",
    "ax.set_ylim(1000, 100)\r\n",
    "ax.xaxis.set_major_locator(\r\n",
    "    plt.MultipleLocator(20))\r\n",
    "ax.xaxis.set_minor_locator(\r\n",
    "    plt.MultipleLocator(10))"
   ],
   "outputs": [
    {
     "output_type": "display_data",
     "data": {
      "image/png": "[encoded data removed]",
      "text/plain": [
       "<Figure size 432x288 with 1 Axes>"
      ]
     },
     "metadata": {
      "needs_background": "light"
     }
    }
   ],
   "metadata": {}
  }
 ],
 "metadata": {
  "orig_nbformat": 4,
  "language_info": {
   "name": "python",
   "version": "3.7.10",
   "mimetype": "text/x-python",
   "codemirror_mode": {
    "name": "ipython",
    "version": 3
   },
   "pygments_lexer": "ipython3",
   "nbconvert_exporter": "python",
   "file_extension": ".py"
  },
  "kernelspec": {
   "name": "python3",
   "display_name": "Python   ('gv2': conda)"
  },
  "interpreter": {
   "hash": "61e5a3f3aa95a130d195f400b073dbe78201ba87669bc387338808a06a837447"
  }
 },
 "nbformat": 4,
 "nbformat_minor": 2
}