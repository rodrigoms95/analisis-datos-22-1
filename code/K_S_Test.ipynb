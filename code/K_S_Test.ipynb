{
 "cells": [
  {
   "cell_type": "code",
   "execution_count": 1,
   "metadata": {},
   "outputs": [],
   "source": [
    "# Prueba de hipótesis chi-square.\n",
    "\n",
    "import pandas as pd\n",
    "import numpy as np\n",
    "\n",
    "from scipy import stats\n",
    "\n",
    "from matplotlib import pyplot as plt"
   ]
  },
  {
   "cell_type": "code",
   "execution_count": 17,
   "metadata": {},
   "outputs": [
    {
     "data": {
      "text/html": [
       "<div>\n",
       "<style scoped>\n",
       "    .dataframe tbody tr th:only-of-type {\n",
       "        vertical-align: middle;\n",
       "    }\n",
       "\n",
       "    .dataframe tbody tr th {\n",
       "        vertical-align: top;\n",
       "    }\n",
       "\n",
       "    .dataframe thead th {\n",
       "        text-align: right;\n",
       "    }\n",
       "</style>\n",
       "<table border=\"1\" class=\"dataframe\">\n",
       "  <thead>\n",
       "    <tr style=\"text-align: right;\">\n",
       "      <th></th>\n",
       "      <th>Precipitation</th>\n",
       "    </tr>\n",
       "    <tr>\n",
       "      <th>Year</th>\n",
       "      <th></th>\n",
       "    </tr>\n",
       "  </thead>\n",
       "  <tbody>\n",
       "    <tr>\n",
       "      <th>1933</th>\n",
       "      <td>0.44</td>\n",
       "    </tr>\n",
       "    <tr>\n",
       "      <th>1934</th>\n",
       "      <td>1.18</td>\n",
       "    </tr>\n",
       "    <tr>\n",
       "      <th>1935</th>\n",
       "      <td>2.69</td>\n",
       "    </tr>\n",
       "    <tr>\n",
       "      <th>1936</th>\n",
       "      <td>2.08</td>\n",
       "    </tr>\n",
       "    <tr>\n",
       "      <th>1937</th>\n",
       "      <td>3.66</td>\n",
       "    </tr>\n",
       "  </tbody>\n",
       "</table>\n",
       "</div>"
      ],
      "text/plain": [
       "      Precipitation\n",
       "Year               \n",
       "1933           0.44\n",
       "1934           1.18\n",
       "1935           2.69\n",
       "1936           2.08\n",
       "1937           3.66"
      ]
     },
     "execution_count": 17,
     "metadata": {},
     "output_type": "execute_result"
    }
   ],
   "source": [
    "path = \"../datos/\"\n",
    "fname = \"Tabla_A2_ppt_Ithaca.dat\"\n",
    "\n",
    "var = \"Precipitation\"\n",
    "\n",
    "# Se lee el archivo .dat y se ajusta su formato.\n",
    "df = pd.read_table(path + fname, names = [\"Year\", var])\n",
    "df = df.set_index(\"Year\")\n",
    "\n",
    "df.head()"
   ]
  },
  {
   "cell_type": "code",
   "execution_count": 8,
   "metadata": {},
   "outputs": [],
   "source": [
    "# Ajuste de parámetros.\n",
    "\n",
    "alpha, zeta, beta = stats.gamma.fit(\n",
    "    df[var], loc = 0)\n",
    "mu, sigma = stats.norm.fit( df[var] )"
   ]
  },
  {
   "cell_type": "code",
   "execution_count": 12,
   "metadata": {},
   "outputs": [
    {
     "name": "stdout",
     "output_type": "stream",
     "text": [
      "Normal\n",
      "statistic: 0.132\n",
      "pvalue   : 0.319\n",
      "Gamma\n",
      "statistic: 0.095\n",
      "pvalue   : 0.727\n"
     ]
    }
   ],
   "source": [
    "# Prueba Kolmogorov-Smirnov.\n",
    "\n",
    "stat_n, p_n = stats.kstest( df[var],\n",
    "    cdf = \"norm\", args = (mu, sigma) )\n",
    "\n",
    "print(\"Normal\")\n",
    "print(f\"statistic: {stat_n:.3f}\")\n",
    "print(f\"pvalue   : {p_n:.3f}\")\n",
    "\n",
    "stat_g, p_g = stats.kstest( df[var],\n",
    "    cdf = \"gamma\", args = (alpha, zeta, beta) )\n",
    "\n",
    "print(\"Gamma\")\n",
    "print(f\"statistic: {stat_g:.3f}\")\n",
    "print(f\"pvalue   : {p_g:.3f}\")"
   ]
  },
  {
   "cell_type": "code",
   "execution_count": 34,
   "metadata": {},
   "outputs": [
    {
     "data": {
      "text/plain": [
       "(0.0, 1.0)"
      ]
     },
     "execution_count": 34,
     "metadata": {},
     "output_type": "execute_result"
    },
    {
     "data": {
      "image/png": "[encoded data removed]",
      "text/plain": [
       "<Figure size 432x288 with 1 Axes>"
      ]
     },
     "metadata": {
      "needs_background": "light"
     },
     "output_type": "display_data"
    }
   ],
   "source": [
    "fig, ax = plt.subplots()\n",
    "\n",
    "# Graficamos las distribuciones.\n",
    "x = np. linspace( df[var].min(),\n",
    "    df[var].max(), 1000 )\n",
    "\n",
    "y_n = stats.norm.cdf(x, mu, sigma)\n",
    "y_g = stats.gamma.cdf(x, alpha, zeta, beta)\n",
    "\n",
    "ax.plot(x, y_n)\n",
    "ax.plot(x, y_g)\n",
    "\n",
    "# Grficamos la frecuencia acumulada.\n",
    "# Criterio de Weibull.\n",
    "ax.plot(df[var].sort_values(),\n",
    "    range(1, len(df) + 1) / np.float64(len(df)+1),\n",
    "    drawstyle=\"steps\")\n",
    "\n",
    "# Graficamos los intervalos de confianza.\n",
    "# Distribución Kolmogorov-Smirnov\n",
    "ax.plot(df[var].sort_values(),\n",
    "    range(1, len(df) + 1) / np.float64(len(df)+1)\n",
    "    - stats.ksone.ppf(1-0.05/2, df.shape[0]),\n",
    "    drawstyle = \"steps\", color = \"red\" )\n",
    "ax.plot(df[var].sort_values(),\n",
    "    range(1, len(df) + 1) / np.float64(len(df)+1)\n",
    "    + stats.ksone.ppf(1-0.1/2, df.shape[0]),\n",
    "    drawstyle = \"steps\", color = \"red\" )\n",
    "\n",
    "\n",
    "ax.set_title(\"Distibución Gamma vs. Normal \\n\"\n",
    "    \"Prueba Kolmogorov-Smirnov\",\n",
    "    fontsize = 16)\n",
    "ax.set_xlabel(\"Precipitación [in]\")\n",
    "ax.set_ylabel(\"P\")\n",
    "ax.legend([\"Normal\", \"Gamma\",\n",
    "    \"Datos\", \"Intervalo de\\nconfianza\"])\n",
    "ax.set_xlim( df[var].min(), df[var].max() )\n",
    "ax.set_ylim(0, 1)"
   ]
  }
 ],
 "metadata": {
  "interpreter": {
   "hash": "61e5a3f3aa95a130d195f400b073dbe78201ba87669bc387338808a06a837447"
  },
  "kernelspec": {
   "display_name": "Python 3.7.10 64-bit ('gv2': conda)",
   "name": "python3"
  },
  "language_info": {
   "codemirror_mode": {
    "name": "ipython",
    "version": 3
   },
   "file_extension": ".py",
   "mimetype": "text/x-python",
   "name": "python",
   "nbconvert_exporter": "python",
   "pygments_lexer": "ipython3",
   "version": "3.7.10"
  },
  "orig_nbformat": 4
 },
 "nbformat": 4,
 "nbformat_minor": 2
}
