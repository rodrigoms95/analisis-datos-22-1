{
 "cells": [
  {
   "cell_type": "code",
   "execution_count": 2,
   "metadata": {},
   "outputs": [],
   "source": [
    "# Prueba de hipótesis chi-square.\n",
    "\n",
    "import pandas as pd\n",
    "import numpy as np\n",
    "\n",
    "from scipy import stats\n",
    "\n",
    "from matplotlib import pyplot as plt\n",
    "\n",
    "from statsmodels.stats.diagnostic import lilliefors"
   ]
  },
  {
   "cell_type": "code",
   "execution_count": 4,
   "metadata": {},
   "outputs": [
    {
     "data": {
      "text/plain": [
       "(50, 1)"
      ]
     },
     "execution_count": 4,
     "metadata": {},
     "output_type": "execute_result"
    }
   ],
   "source": [
    "path = \"../datos/\"\n",
    "fname = \"Tabla_A2_ppt_Ithaca.dat\"\n",
    "\n",
    "var = \"Precipitation\"\n",
    "\n",
    "# Se lee el archivo .dat y se ajusta su formato.\n",
    "df = pd.read_table(path + fname, names = [\"Year\", var])\n",
    "df = df.set_index(\"Year\")\n",
    "\n",
    "df.shape"
   ]
  },
  {
   "cell_type": "code",
   "execution_count": 17,
   "metadata": {},
   "outputs": [
    {
     "name": "stdout",
     "output_type": "stream",
     "text": [
      "alpha 2.602\n"
     ]
    }
   ],
   "source": [
    "# Ajuste de parámetros.\n",
    "\n",
    "alpha, zeta, beta = stats.gamma.fit(\n",
    "    df[var], loc = 0)\n",
    "mu, sigma = stats.norm.fit( df[var] )\n",
    "\n",
    "print(f\"alpha {alpha:.3f}\")"
   ]
  },
  {
   "cell_type": "code",
   "execution_count": 18,
   "metadata": {},
   "outputs": [
    {
     "name": "stdout",
     "output_type": "stream",
     "text": [
      "Normal\n",
      "statistic: 0.131\n",
      "pvalue   : 0.031\n",
      "\n",
      "Gamma\n",
      "statistic : 0.095\n",
      "gamma crit: 0.135\n",
      "alpha     : 0.050\n"
     ]
    }
   ],
   "source": [
    "# Prueba Kolmogorov-Smirnov.\n",
    "\n",
    "stat_n, p_n = lilliefors( df[var] )\n",
    "\n",
    "print(\"Normal\")\n",
    "print(f\"statistic: {stat_n:.3f}\")\n",
    "print(f\"pvalue   : {p_n:.3f}\")\n",
    "\n",
    "# Lilliefors no está disponbile aún\n",
    "# para la distribución. Kolmogorov\n",
    "# puro subestima el error.\n",
    "stat_g, p_g = stats.kstest( df[var],\n",
    "    cdf = \"gamma\", args = (alpha, zeta, beta) )\n",
    "crit_g = 0.135\n",
    "alpha_test = 0.05\n",
    "\n",
    "print(\"\")\n",
    "print(\"Gamma\")\n",
    "print(f\"statistic : {stat_g:.3f}\")\n",
    "print(f\"gamma crit: {crit_g:.3f}\")\n",
    "print(f\"alpha     : {alpha_test:.3f}\")"
   ]
  },
  {
   "cell_type": "code",
   "execution_count": 19,
   "metadata": {},
   "outputs": [
    {
     "data": {
      "text/plain": [
       "(0.0, 1.0)"
      ]
     },
     "execution_count": 19,
     "metadata": {},
     "output_type": "execute_result"
    },
    {
     "data": {
      "image/png": "[encoded data removed]",
      "text/plain": [
       "<Figure size 432x288 with 1 Axes>"
      ]
     },
     "metadata": {
      "needs_background": "light"
     },
     "output_type": "display_data"
    }
   ],
   "source": [
    "fig, ax = plt.subplots()\n",
    "\n",
    "# Graficamos las distribuciones.\n",
    "x = np.linspace( df[var].min(),\n",
    "    df[var].max(), 1000 )\n",
    "\n",
    "y_n = stats.norm.cdf(x, mu, sigma)\n",
    "y_g = stats.gamma.cdf(x, alpha, zeta, beta)\n",
    "\n",
    "ax.plot(x, y_n)\n",
    "ax.plot(x, y_g)\n",
    "\n",
    "# Grficamos la frecuencia acumulada.\n",
    "# Criterio de Weibull.\n",
    "ax.plot(df[var].sort_values(),\n",
    "    range(1, len(df) + 1) / np.float64(len(df)+1),\n",
    "    drawstyle = \"steps\")\n",
    "\n",
    "# Graficamos los intervalos de confianza.\n",
    "# Distribución Kolmogorov-Smirnov\n",
    "ax.plot(df[var].sort_values(),\n",
    "    range(1, len(df) + 1) / np.float64(len(df)+1)\n",
    "    - crit_g, drawstyle = \"steps\", color = \"red\" )\n",
    "ax.plot(df[var].sort_values(),\n",
    "    range(1, len(df) + 1) / np.float64(len(df)+1)\n",
    "    + crit_g, drawstyle = \"steps\", color = \"red\" )\n",
    "\n",
    "\n",
    "ax.set_title(\"Distibución Gamma vs. Normal \\n\"\n",
    "    \"Prueba Kolmogorov-Smirnov\",\n",
    "    fontsize = 16)\n",
    "ax.set_xlabel(\"Precipitación [in]\")\n",
    "ax.set_ylabel(\"P\")\n",
    "ax.legend([\"Normal\", \"Gamma\",\n",
    "    \"Datos\", \"Intervalo de\\nconfianza\"])\n",
    "ax.set_xlim( df[var].min(), df[var].max() )\n",
    "ax.set_ylim(0, 1)"
   ]
  }
 ],
 "metadata": {
  "interpreter": {
   "hash": "61e5a3f3aa95a130d195f400b073dbe78201ba87669bc387338808a06a837447"
  },
  "kernelspec": {
   "display_name": "Python 3.7.10 64-bit ('gv2': conda)",
   "name": "python3"
  },
  "language_info": {
   "codemirror_mode": {
    "name": "ipython",
    "version": 3
   },
   "file_extension": ".py",
   "mimetype": "text/x-python",
   "name": "python",
   "nbconvert_exporter": "python",
   "pygments_lexer": "ipython3",
   "version": "3.7.10"
  },
  "orig_nbformat": 4
 },
 "nbformat": 4,
 "nbformat_minor": 2
}
