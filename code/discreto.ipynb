{
 "cells": [
  {
   "cell_type": "code",
   "execution_count": 1,
   "source": [
    "# Distribuciones de probabilidad discretas.\r\n",
    "\r\n",
    "import numpy as np\r\n",
    "import pandas as pd\r\n",
    "\r\n",
    "from matplotlib import pyplot as plt\r\n",
    "\r\n",
    "from scipy import stats"
   ],
   "outputs": [],
   "metadata": {}
  },
  {
   "cell_type": "code",
   "execution_count": 2,
   "source": [
    "# Graficar distribución discreta.\r\n",
    "\r\n",
    "x = np.arange(2, 13)\r\n",
    "\r\n",
    "y = np.array([1, 2, 3, 4, 5,\r\n",
    "    6, 5, 4, 3, 2, 1]) / 36\r\n",
    "\r\n",
    "plt.stem(x, y)\r\n",
    "\r\n",
    "plt.title(\"Probabilidad de suma de dos dados\",\r\n",
    "    fontsize = 16)"
   ],
   "outputs": [
    {
     "output_type": "execute_result",
     "data": {
      "text/plain": [
       "Text(0.5, 1.0, 'Probabilidad de suma de dos dados')"
      ]
     },
     "metadata": {},
     "execution_count": 2
    },
    {
     "output_type": "display_data",
     "data": {
      "image/png": "[encoded data removed]",
      "text/plain": [
       "<Figure size 432x288 with 1 Axes>"
      ]
     },
     "metadata": {
      "needs_background": "light"
     }
    }
   ],
   "metadata": {}
  },
  {
   "cell_type": "code",
   "execution_count": 3,
   "source": [
    "# Cálculo de valor esperado y varianza.\r\n",
    "\r\n",
    "df = pd.DataFrame({\"X\": x, \"P\": y})\r\n",
    "\r\n",
    "df.set_index(\"X\", inplace = True)\r\n",
    "\r\n",
    "df[\"XP(X)\"] = df.index * df[\"P\"]\r\n",
    "df[\"X^2\"] = df.index * df.index\r\n",
    "df[\"X^2P(X)\"] = df[\"X^2\"]* df[\"P\"]\r\n",
    "\r\n",
    "print(\"E(X) = \" + f\"{df['XP(X)'].sum():.2f}\")\r\n",
    "print(\"Var(X) = \" +\r\n",
    "    f\"{df['X^2P(X)'].sum() - df['XP(X)'].sum() ** 2:.2f}\")\r\n",
    "\r\n",
    "df"
   ],
   "outputs": [
    {
     "output_type": "stream",
     "name": "stdout",
     "text": [
      "E(X) = 7.00\n",
      "Var(X) = 5.83\n"
     ]
    },
    {
     "output_type": "execute_result",
     "data": {
      "text/html": [
       "<div>\n",
       "<style scoped>\n",
       "    .dataframe tbody tr th:only-of-type {\n",
       "        vertical-align: middle;\n",
       "    }\n",
       "\n",
       "    .dataframe tbody tr th {\n",
       "        vertical-align: top;\n",
       "    }\n",
       "\n",
       "    .dataframe thead th {\n",
       "        text-align: right;\n",
       "    }\n",
       "</style>\n",
       "<table border=\"1\" class=\"dataframe\">\n",
       "  <thead>\n",
       "    <tr style=\"text-align: right;\">\n",
       "      <th></th>\n",
       "      <th>P</th>\n",
       "      <th>XP(X)</th>\n",
       "      <th>X^2</th>\n",
       "      <th>X^2P(X)</th>\n",
       "    </tr>\n",
       "    <tr>\n",
       "      <th>X</th>\n",
       "      <th></th>\n",
       "      <th></th>\n",
       "      <th></th>\n",
       "      <th></th>\n",
       "    </tr>\n",
       "  </thead>\n",
       "  <tbody>\n",
       "    <tr>\n",
       "      <th>2</th>\n",
       "      <td>0.027778</td>\n",
       "      <td>0.055556</td>\n",
       "      <td>4</td>\n",
       "      <td>0.111111</td>\n",
       "    </tr>\n",
       "    <tr>\n",
       "      <th>3</th>\n",
       "      <td>0.055556</td>\n",
       "      <td>0.166667</td>\n",
       "      <td>9</td>\n",
       "      <td>0.500000</td>\n",
       "    </tr>\n",
       "    <tr>\n",
       "      <th>4</th>\n",
       "      <td>0.083333</td>\n",
       "      <td>0.333333</td>\n",
       "      <td>16</td>\n",
       "      <td>1.333333</td>\n",
       "    </tr>\n",
       "    <tr>\n",
       "      <th>5</th>\n",
       "      <td>0.111111</td>\n",
       "      <td>0.555556</td>\n",
       "      <td>25</td>\n",
       "      <td>2.777778</td>\n",
       "    </tr>\n",
       "    <tr>\n",
       "      <th>6</th>\n",
       "      <td>0.138889</td>\n",
       "      <td>0.833333</td>\n",
       "      <td>36</td>\n",
       "      <td>5.000000</td>\n",
       "    </tr>\n",
       "    <tr>\n",
       "      <th>7</th>\n",
       "      <td>0.166667</td>\n",
       "      <td>1.166667</td>\n",
       "      <td>49</td>\n",
       "      <td>8.166667</td>\n",
       "    </tr>\n",
       "    <tr>\n",
       "      <th>8</th>\n",
       "      <td>0.138889</td>\n",
       "      <td>1.111111</td>\n",
       "      <td>64</td>\n",
       "      <td>8.888889</td>\n",
       "    </tr>\n",
       "    <tr>\n",
       "      <th>9</th>\n",
       "      <td>0.111111</td>\n",
       "      <td>1.000000</td>\n",
       "      <td>81</td>\n",
       "      <td>9.000000</td>\n",
       "    </tr>\n",
       "    <tr>\n",
       "      <th>10</th>\n",
       "      <td>0.083333</td>\n",
       "      <td>0.833333</td>\n",
       "      <td>100</td>\n",
       "      <td>8.333333</td>\n",
       "    </tr>\n",
       "    <tr>\n",
       "      <th>11</th>\n",
       "      <td>0.055556</td>\n",
       "      <td>0.611111</td>\n",
       "      <td>121</td>\n",
       "      <td>6.722222</td>\n",
       "    </tr>\n",
       "    <tr>\n",
       "      <th>12</th>\n",
       "      <td>0.027778</td>\n",
       "      <td>0.333333</td>\n",
       "      <td>144</td>\n",
       "      <td>4.000000</td>\n",
       "    </tr>\n",
       "  </tbody>\n",
       "</table>\n",
       "</div>"
      ],
      "text/plain": [
       "           P     XP(X)  X^2   X^2P(X)\n",
       "X                                    \n",
       "2   0.027778  0.055556    4  0.111111\n",
       "3   0.055556  0.166667    9  0.500000\n",
       "4   0.083333  0.333333   16  1.333333\n",
       "5   0.111111  0.555556   25  2.777778\n",
       "6   0.138889  0.833333   36  5.000000\n",
       "7   0.166667  1.166667   49  8.166667\n",
       "8   0.138889  1.111111   64  8.888889\n",
       "9   0.111111  1.000000   81  9.000000\n",
       "10  0.083333  0.833333  100  8.333333\n",
       "11  0.055556  0.611111  121  6.722222\n",
       "12  0.027778  0.333333  144  4.000000"
      ]
     },
     "metadata": {},
     "execution_count": 3
    }
   ],
   "metadata": {}
  },
  {
   "cell_type": "code",
   "execution_count": 4,
   "source": [
    "# Distribución binomial para tres monedas.\r\n",
    "\r\n",
    "n, p = 3, 0.5\r\n",
    "\r\n",
    "fig, ax = plt.subplots(1, 1)\r\n",
    "\r\n",
    "x = np.arange(0, n + 1)\r\n",
    "\r\n",
    "y = stats.binom.pmf(x, n, p)\r\n",
    "\r\n",
    "ax.stem(x, y)\r\n",
    "\r\n",
    "ax.set_title( \"Distribución binomal para tres monedas\",\r\n",
    "    fontsize = 16)\r\n",
    "ax.set_xlabel(\"X\")\r\n",
    "ax.set_ylabel(\"P(X)\")\r\n",
    "ax.xaxis.set_major_formatter(\"{x:.0f}\")\r\n",
    "\r\n",
    "m, v = stats.binom.stats(n, p)\r\n",
    "\r\n",
    "print(\"E(X) = \" + f\"{m:.2f}\")\r\n",
    "print(\"Var(X) = \" + f\"{v:.2f}\")"
   ],
   "outputs": [
    {
     "output_type": "stream",
     "name": "stdout",
     "text": [
      "E(X) = 1.50\n",
      "Var(X) = 0.75\n"
     ]
    },
    {
     "output_type": "display_data",
     "data": {
      "image/png": "[encoded data removed]",
      "text/plain": [
       "<Figure size 432x288 with 1 Axes>"
      ]
     },
     "metadata": {
      "needs_background": "light"
     }
    }
   ],
   "metadata": {}
  },
  {
   "cell_type": "code",
   "execution_count": 5,
   "source": [
    "# Cálculo de valor esperado y varianza.\r\n",
    "\r\n",
    "df = pd.DataFrame({\"X\": x, \"P\": y})\r\n",
    "\r\n",
    "df.set_index(\"X\", inplace = True)\r\n",
    "\r\n",
    "df[\"XP(X)\"] = df.index * df[\"P\"]\r\n",
    "df[\"X^2\"] = df.index * df.index\r\n",
    "df[\"X^2P(X)\"] = df[\"X^2\"]* df[\"P\"]\r\n",
    "\r\n",
    "print(\"E(X) = \" + f\"{df['XP(X)'].sum():.2f}\")\r\n",
    "print(\"Var(X) = \" +\r\n",
    "    f\"{df['X^2P(X)'].sum() - df['XP(X)'].sum() ** 2:.2f}\")\r\n",
    "\r\n",
    "df"
   ],
   "outputs": [
    {
     "output_type": "stream",
     "name": "stdout",
     "text": [
      "E(X) = 1.50\n",
      "Var(X) = 0.75\n"
     ]
    },
    {
     "output_type": "execute_result",
     "data": {
      "text/html": [
       "<div>\n",
       "<style scoped>\n",
       "    .dataframe tbody tr th:only-of-type {\n",
       "        vertical-align: middle;\n",
       "    }\n",
       "\n",
       "    .dataframe tbody tr th {\n",
       "        vertical-align: top;\n",
       "    }\n",
       "\n",
       "    .dataframe thead th {\n",
       "        text-align: right;\n",
       "    }\n",
       "</style>\n",
       "<table border=\"1\" class=\"dataframe\">\n",
       "  <thead>\n",
       "    <tr style=\"text-align: right;\">\n",
       "      <th></th>\n",
       "      <th>P</th>\n",
       "      <th>XP(X)</th>\n",
       "      <th>X^2</th>\n",
       "      <th>X^2P(X)</th>\n",
       "    </tr>\n",
       "    <tr>\n",
       "      <th>X</th>\n",
       "      <th></th>\n",
       "      <th></th>\n",
       "      <th></th>\n",
       "      <th></th>\n",
       "    </tr>\n",
       "  </thead>\n",
       "  <tbody>\n",
       "    <tr>\n",
       "      <th>0</th>\n",
       "      <td>0.125</td>\n",
       "      <td>0.000</td>\n",
       "      <td>0</td>\n",
       "      <td>0.000</td>\n",
       "    </tr>\n",
       "    <tr>\n",
       "      <th>1</th>\n",
       "      <td>0.375</td>\n",
       "      <td>0.375</td>\n",
       "      <td>1</td>\n",
       "      <td>0.375</td>\n",
       "    </tr>\n",
       "    <tr>\n",
       "      <th>2</th>\n",
       "      <td>0.375</td>\n",
       "      <td>0.750</td>\n",
       "      <td>4</td>\n",
       "      <td>1.500</td>\n",
       "    </tr>\n",
       "    <tr>\n",
       "      <th>3</th>\n",
       "      <td>0.125</td>\n",
       "      <td>0.375</td>\n",
       "      <td>9</td>\n",
       "      <td>1.125</td>\n",
       "    </tr>\n",
       "  </tbody>\n",
       "</table>\n",
       "</div>"
      ],
      "text/plain": [
       "       P  XP(X)  X^2  X^2P(X)\n",
       "X                            \n",
       "0  0.125  0.000    0    0.000\n",
       "1  0.375  0.375    1    0.375\n",
       "2  0.375  0.750    4    1.500\n",
       "3  0.125  0.375    9    1.125"
      ]
     },
     "metadata": {},
     "execution_count": 5
    }
   ],
   "metadata": {}
  },
  {
   "cell_type": "code",
   "execution_count": 6,
   "source": [
    "# Ejericio congelación de lago Cayuga.\r\n",
    "\r\n",
    "N = 230\r\n",
    "e = 10\r\n",
    "\r\n",
    "n, p = N, e / N \r\n",
    "\r\n",
    "fig, ax = plt.subplots(1, 1)\r\n",
    "\r\n",
    "x = np.arange(0, n + 1)\r\n",
    "\r\n",
    "ax.plot(x, stats.binom.pmf(x, n, p))\r\n",
    "\r\n",
    "ax.set_title( \"Probabilidad de que el lago Cayuga\\n\"\r\n",
    "    + \" se congele x veces en \" + str(n) + \" años\",\r\n",
    "    fontsize = 16 )\r\n",
    "ax.set_xlabel(\"N\")\r\n",
    "ax.set_ylabel(\"p\")\r\n",
    "\r\n",
    "print(\"Probabilidad de que el lago Cayuga\"\r\n",
    "    + \" se congele 1 vez en \" + str(n) + \" años: \"\r\n",
    "    + f\"{stats.binom.pmf(1, n, p):.3f}\")"
   ],
   "outputs": [
    {
     "output_type": "stream",
     "name": "stdout",
     "text": [
      "Probabilidad de que el lago Cayuga se congele 1 vez en 230 años: 0.000\n"
     ]
    },
    {
     "output_type": "display_data",
     "data": {
      "image/png": "[encoded data removed]",
      "text/plain": [
       "<Figure size 432x288 with 1 Axes>"
      ]
     },
     "metadata": {
      "needs_background": "light"
     }
    }
   ],
   "metadata": {}
  },
  {
   "cell_type": "code",
   "execution_count": 7,
   "source": [
    "# Ejericio congelación de lago Cayuga.\r\n",
    "\r\n",
    "N = 230\r\n",
    "e = 10\r\n",
    "\r\n",
    "n, p = e, e / N \r\n",
    "\r\n",
    "fig, ax = plt.subplots(1, 1)\r\n",
    "\r\n",
    "x = np.arange(0, n + 1)\r\n",
    "\r\n",
    "ax.stem(x, stats.binom.pmf(x, n, p))\r\n",
    "\r\n",
    "ax.set_title( \"Probabilidad de que el lago Cayuga\\n\"\r\n",
    "    + \" se congele x veces en \" + str(n) + \" años\",\r\n",
    "    fontsize = 16 )\r\n",
    "ax.set_xlabel(\"N\")\r\n",
    "ax.set_ylabel(\"p\")\r\n",
    "\r\n",
    "print(\"Probabilidad de que el lago Cayuga\"\r\n",
    "    + \" se congele 1 vez en \" + str(n) + \" años: \"\r\n",
    "    + f\"{stats.binom.pmf(1, n, p):.3f}\")\r\n",
    "\r\n",
    "    \r\n",
    "print( \"Probabilidad de que el lago Cayuga\"\r\n",
    "    + \" se congele al menos 1 vez en \" + str(n)\r\n",
    "    + \" años: \" + f\"{1 - stats.binom.cdf(0, n, p):.3f}\" )"
   ],
   "outputs": [
    {
     "output_type": "stream",
     "name": "stdout",
     "text": [
      "Probabilidad de que el lago Cayuga se congele 1 vez en 10 años: 0.291\n",
      "Probabilidad de que el lago Cayuga se congele al menos 1 vez en 10 años: 0.359\n"
     ]
    },
    {
     "output_type": "display_data",
     "data": {
      "image/png": "[encoded data removed]",
      "text/plain": [
       "<Figure size 432x288 with 1 Axes>"
      ]
     },
     "metadata": {
      "needs_background": "light"
     }
    }
   ],
   "metadata": {}
  },
  {
   "cell_type": "code",
   "execution_count": 8,
   "source": [
    "# Ejercicio tornados en NY.\r\n",
    "\r\n",
    "path = \"../datos/\"\r\n",
    "fname = \"tornados_NY.csv\"\r\n",
    "\r\n",
    "df = pd.read_csv(path + fname, index_col = \"Año\")\r\n",
    "\r\n",
    "mu = df.mean()\r\n",
    "\r\n",
    "n, bins = np.histogram( df,\r\n",
    "    bins = np.arange(0.5, 10.5), \r\n",
    "    density = 1 )\r\n",
    "\r\n",
    "fig, ax = plt.subplots(1, 1)\r\n",
    "\r\n",
    "x = np.arange(0, 11)\r\n",
    "\r\n",
    "ax.plot(x, stats.poisson.pmf(x, mu))\r\n",
    "\r\n",
    "ax.stem(np.arange(1, 10), n,\r\n",
    "    linefmt = \"C1-\",\r\n",
    "    markerfmt = \"C1o\")\r\n",
    "\r\n",
    "ax.set_title(\"Tornados por año en Nueva York\",\r\n",
    "    fontsize = 16)\r\n",
    "ax.set_xlabel(\"Número de tornados\")\r\n",
    "ax.set_ylabel(\"p\")\r\n",
    "ax.xaxis.set_major_formatter(\"{x:.0f}\")\r\n",
    "ax.legend( [\"distribución de Poisson\",\r\n",
    "    \"número de tornados\"] )\r\n",
    "ax.set_xlim(0, 9.5)\r\n",
    "ax.set_ylim(0)"
   ],
   "outputs": [
    {
     "output_type": "execute_result",
     "data": {
      "text/plain": [
       "(0.0, 0.21000000000000002)"
      ]
     },
     "metadata": {},
     "execution_count": 8
    },
    {
     "output_type": "display_data",
     "data": {
      "image/png": "[encoded data removed]",
      "text/plain": [
       "<Figure size 432x288 with 1 Axes>"
      ]
     },
     "metadata": {
      "needs_background": "light"
     }
    }
   ],
   "metadata": {}
  },
  {
   "cell_type": "code",
   "execution_count": 9,
   "source": [
    "# Diferentes casos de la distribución de Poisson.\r\n",
    "\r\n",
    "mu = [1, 4, 10]\r\n",
    "color = [\"red\", \"green\", \"black\"]\r\n",
    "\r\n",
    "fig, ax = plt.subplots(1, 1)\r\n",
    "\r\n",
    "x = np.arange(0, 21)\r\n",
    "\r\n",
    "for i in range(len(mu)):\r\n",
    "    ax.plot(x, stats.poisson.pmf(x, mu[i]),\r\n",
    "        marker = \"o\", color = color[i])\r\n",
    "\r\n",
    "ax.set_title(\"Distribución de Poisson\",\r\n",
    "    fontsize = 16)\r\n",
    "ax.set_xlabel(\"x\")\r\n",
    "ax.set_ylabel(\"p\")\r\n",
    "ax.xaxis.set_major_formatter(\"{x:.0f}\")\r\n",
    "ax.legend( [\"k = \" + str(x) for x in mu] )\r\n",
    "ax.set_xlim(0, 20)"
   ],
   "outputs": [
    {
     "output_type": "execute_result",
     "data": {
      "text/plain": [
       "(0.0, 20.0)"
      ]
     },
     "metadata": {},
     "execution_count": 9
    },
    {
     "output_type": "display_data",
     "data": {
      "image/png": "[encoded data removed]",
      "text/plain": [
       "<Figure size 432x288 with 1 Axes>"
      ]
     },
     "metadata": {
      "needs_background": "light"
     }
    }
   ],
   "metadata": {}
  }
 ],
 "metadata": {
  "orig_nbformat": 4,
  "language_info": {
   "name": "python",
   "version": "3.7.10",
   "mimetype": "text/x-python",
   "codemirror_mode": {
    "name": "ipython",
    "version": 3
   },
   "pygments_lexer": "ipython3",
   "nbconvert_exporter": "python",
   "file_extension": ".py"
  },
  "kernelspec": {
   "name": "python3",
   "display_name": "Python   ('gv2': conda)"
  },
  "interpreter": {
   "hash": "61e5a3f3aa95a130d195f400b073dbe78201ba87669bc387338808a06a837447"
  }
 },
 "nbformat": 4,
 "nbformat_minor": 2
}