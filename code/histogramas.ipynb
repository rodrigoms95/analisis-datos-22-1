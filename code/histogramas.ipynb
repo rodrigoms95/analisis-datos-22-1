{
 "cells": [
  {
   "cell_type": "code",
   "execution_count": null,
   "source": [
    "# Cálculo de histogramas y estadísticos.\r\n",
    "\r\n",
    "import pandas as pd\r\n",
    "import numpy as np\r\n",
    "\r\n",
    "from matplotlib import pyplot as plt"
   ],
   "outputs": [],
   "metadata": {}
  },
  {
   "cell_type": "code",
   "execution_count": null,
   "source": [
    "path = \"../datos/\"\r\n",
    "fname = \"A.1_Wilks.csv\"\r\n",
    "\r\n",
    "A = \"Ithaca - \"\r\n",
    "B = \"Canandaigua - \"\r\n",
    "C = \"Max Temp\"\r\n",
    "D = \"Min Temp\"\r\n",
    "\r\n",
    "var = A + D\r\n",
    "\r\n",
    "cols = [\"Date\", A + C, var, B + C, B + D]\r\n",
    "\r\n",
    "df = pd.read_csv(path + fname, usecols = cols, index_col = \"Date\")"
   ],
   "outputs": [],
   "metadata": {}
  },
  {
   "cell_type": "code",
   "execution_count": null,
   "source": [
    "# Estadísticos\r\n",
    "\r\n",
    "print(\"mean: \" + str(df.mean()[0]))\r\n",
    "print(\"median: \" + str(df.median()[0]))\r\n",
    "print(\"std: \" + str(df.std()[0]))\r\n",
    "print(\"var: \" + str(df.var()[0]))\r\n",
    "print(\"skewness: \" + str(df.skew()[0]))\r\n",
    "print(\"quartiles: \" + str(df.quantile(0.25)[0]) + \", \" + str(df.quantile()[0])\r\n",
    "     + \", \" + str(df.quantile(0.75)[0]))\r\n",
    "print(\"IQR: \" + str(df.quantile(0.75)[0] - df.quantile(0.25)[0]))\r\n",
    "print(\"range: \" + str(df.max()[0] - df.min()[0]))"
   ],
   "outputs": [],
   "metadata": {}
  },
  {
   "cell_type": "code",
   "execution_count": null,
   "source": [
    "# Histograma.\r\n",
    "\r\n",
    "df[var].hist()\r\n",
    "plt.title(\"Histograma\", fontsize = \"18\")"
   ],
   "outputs": [],
   "metadata": {}
  },
  {
   "cell_type": "code",
   "execution_count": null,
   "source": [
    "# Frecuencia acumulada.\r\n",
    "\r\n",
    "plt.plot(df[var].sort_values(),\r\n",
    "    range(1, len(df) + 1) / np.float64(len(df)+1),\r\n",
    "    drawstyle=\"steps\")\r\n",
    "plt.title(\"Frecuencia acumulada\", fontsize = \"18\")"
   ],
   "outputs": [],
   "metadata": {}
  },
  {
   "cell_type": "code",
   "execution_count": null,
   "source": [
    "# Box and whiskers plot.\r\n",
    "\r\n",
    "df.plot.box()\r\n",
    "\r\n",
    "plt.xticks(rotation = 15, ha = \"right\")\r\n",
    "plt.title(\"Box plot\", fontsize = \"18\")"
   ],
   "outputs": [],
   "metadata": {}
  },
  {
   "cell_type": "code",
   "execution_count": null,
   "source": [
    "# KDE - Kernel Density Estimator - Gaussian\r\n",
    "\r\n",
    "df.plot.kde()\r\n",
    "plt.title(\"Kernel Density Estimator\", fontsize = \"18\")"
   ],
   "outputs": [],
   "metadata": {}
  },
  {
   "cell_type": "code",
   "execution_count": null,
   "source": [
    "# Violin Plot\r\n",
    "\r\n",
    "plt.figure()\r\n",
    "axis = plt.axes()\r\n",
    "\r\n",
    "pos = range(1, 5)\r\n",
    "\r\n",
    "axis.violinplot(df, pos, showextrema = True, showmedians = True)\r\n",
    "plt.xticks(pos, df.columns, rotation = 15, ha = \"right\")\r\n",
    "plt.title(\"Violin Plot\", fontsize = \"18\")"
   ],
   "outputs": [],
   "metadata": {}
  }
 ],
 "metadata": {
  "orig_nbformat": 4,
  "language_info": {
   "name": "python",
   "version": "3.7.10",
   "mimetype": "text/x-python",
   "codemirror_mode": {
    "name": "ipython",
    "version": 3
   },
   "pygments_lexer": "ipython3",
   "nbconvert_exporter": "python",
   "file_extension": ".py"
  },
  "kernelspec": {
   "name": "python3",
   "display_name": "Python 3.7.10 64-bit ('gv': conda)"
  },
  "interpreter": {
   "hash": "6676ca00fb0741993ebaaea950e1452b1d4d3e4d3ff6c8432cb3f62d50337d19"
  }
 },
 "nbformat": 4,
 "nbformat_minor": 2
}